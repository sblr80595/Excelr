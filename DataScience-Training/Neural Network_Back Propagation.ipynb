{
 "cells": [
  {
   "cell_type": "code",
   "execution_count": 18,
   "metadata": {
    "ExecuteTime": {
     "end_time": "2021-08-20T16:04:10.650840Z",
     "start_time": "2021-08-20T16:04:10.646682Z"
    }
   },
   "outputs": [],
   "source": [
    "import tensorflow  as tf\n",
    "import numpy"
   ]
  },
  {
   "cell_type": "code",
   "execution_count": null,
   "metadata": {},
   "outputs": [],
   "source": [
    "conda install tensorflow "
   ]
  },
  {
   "cell_type": "code",
   "execution_count": 2,
   "metadata": {
    "ExecuteTime": {
     "end_time": "2021-08-20T15:59:26.255468Z",
     "start_time": "2021-08-20T15:59:18.237380Z"
    },
    "scrolled": true
   },
   "outputs": [
    {
     "name": "stdout",
     "output_type": "stream",
     "text": [
      "Requirement already satisfied: tensorflow in /Users/anaconda3/lib/python3.7/site-packages (2.5.0)\n",
      "Requirement already satisfied: wheel~=0.35 in /Users/anaconda3/lib/python3.7/site-packages (from tensorflow) (0.36.2)\n",
      "Requirement already satisfied: absl-py~=0.10 in /Users/anaconda3/lib/python3.7/site-packages (from tensorflow) (0.13.0)\n",
      "Requirement already satisfied: grpcio~=1.34.0 in /Users/anaconda3/lib/python3.7/site-packages (from tensorflow) (1.34.1)\n",
      "Requirement already satisfied: tensorboard~=2.5 in /Users/anaconda3/lib/python3.7/site-packages (from tensorflow) (2.5.0)\n",
      "Requirement already satisfied: opt-einsum~=3.3.0 in /Users/anaconda3/lib/python3.7/site-packages (from tensorflow) (3.3.0)\n",
      "Requirement already satisfied: typing-extensions~=3.7.4 in /Users/anaconda3/lib/python3.7/site-packages (from tensorflow) (3.7.4.3)\n",
      "Requirement already satisfied: protobuf>=3.9.2 in /Users/anaconda3/lib/python3.7/site-packages (from tensorflow) (3.15.6)\n",
      "Requirement already satisfied: termcolor~=1.1.0 in /Users/anaconda3/lib/python3.7/site-packages (from tensorflow) (1.1.0)\n",
      "Requirement already satisfied: numpy~=1.19.2 in /Users/anaconda3/lib/python3.7/site-packages (from tensorflow) (1.19.5)\n",
      "Requirement already satisfied: h5py~=3.1.0 in /Users/anaconda3/lib/python3.7/site-packages (from tensorflow) (3.1.0)\n",
      "Requirement already satisfied: astunparse~=1.6.3 in /Users/anaconda3/lib/python3.7/site-packages (from tensorflow) (1.6.3)\n",
      "Requirement already satisfied: six~=1.15.0 in /Users/anaconda3/lib/python3.7/site-packages (from tensorflow) (1.15.0)\n",
      "Requirement already satisfied: google-pasta~=0.2 in /Users/anaconda3/lib/python3.7/site-packages (from tensorflow) (0.2.0)\n",
      "Requirement already satisfied: keras-preprocessing~=1.1.2 in /Users/anaconda3/lib/python3.7/site-packages (from tensorflow) (1.1.2)\n",
      "Requirement already satisfied: flatbuffers~=1.12.0 in /Users/anaconda3/lib/python3.7/site-packages (from tensorflow) (1.12)\n",
      "Requirement already satisfied: keras-nightly~=2.5.0.dev in /Users/anaconda3/lib/python3.7/site-packages (from tensorflow) (2.5.0.dev2021032900)\n",
      "Requirement already satisfied: gast==0.4.0 in /Users/anaconda3/lib/python3.7/site-packages (from tensorflow) (0.4.0)\n",
      "Requirement already satisfied: wrapt~=1.12.1 in /Users/anaconda3/lib/python3.7/site-packages (from tensorflow) (1.12.1)\n",
      "Requirement already satisfied: tensorflow-estimator<2.6.0,>=2.5.0rc0 in /Users/anaconda3/lib/python3.7/site-packages (from tensorflow) (2.5.0)\n",
      "Requirement already satisfied: cached-property in /Users/anaconda3/lib/python3.7/site-packages (from h5py~=3.1.0->tensorflow) (1.5.2)\n",
      "Requirement already satisfied: google-auth<2,>=1.6.3 in /Users/anaconda3/lib/python3.7/site-packages (from tensorboard~=2.5->tensorflow) (1.7.1)\n",
      "Requirement already satisfied: tensorboard-plugin-wit>=1.6.0 in /Users/anaconda3/lib/python3.7/site-packages (from tensorboard~=2.5->tensorflow) (1.8.0)\n",
      "Requirement already satisfied: werkzeug>=0.11.15 in /Users/anaconda3/lib/python3.7/site-packages (from tensorboard~=2.5->tensorflow) (2.0.1)\n",
      "Requirement already satisfied: setuptools>=41.0.0 in /Users/anaconda3/lib/python3.7/site-packages (from tensorboard~=2.5->tensorflow) (54.1.2)\n",
      "Requirement already satisfied: markdown>=2.6.8 in /Users/anaconda3/lib/python3.7/site-packages (from tensorboard~=2.5->tensorflow) (3.1.1)\n",
      "Requirement already satisfied: google-auth-oauthlib<0.5,>=0.4.1 in /Users/anaconda3/lib/python3.7/site-packages (from tensorboard~=2.5->tensorflow) (0.4.1)\n",
      "Requirement already satisfied: requests<3,>=2.21.0 in /Users/anaconda3/lib/python3.7/site-packages (from tensorboard~=2.5->tensorflow) (2.22.0)\n",
      "Requirement already satisfied: tensorboard-data-server<0.7.0,>=0.6.0 in /Users/anaconda3/lib/python3.7/site-packages (from tensorboard~=2.5->tensorflow) (0.6.1)\n",
      "Requirement already satisfied: cachetools<3.2,>=2.0.0 in /Users/anaconda3/lib/python3.7/site-packages (from google-auth<2,>=1.6.3->tensorboard~=2.5->tensorflow) (3.1.1)\n",
      "Requirement already satisfied: pyasn1-modules>=0.2.1 in /Users/anaconda3/lib/python3.7/site-packages (from google-auth<2,>=1.6.3->tensorboard~=2.5->tensorflow) (0.2.7)\n",
      "Requirement already satisfied: rsa<4.1,>=3.1.4 in /Users/anaconda3/lib/python3.7/site-packages (from google-auth<2,>=1.6.3->tensorboard~=2.5->tensorflow) (4.0)\n",
      "Requirement already satisfied: requests-oauthlib>=0.7.0 in /Users/anaconda3/lib/python3.7/site-packages (from google-auth-oauthlib<0.5,>=0.4.1->tensorboard~=2.5->tensorflow) (1.3.0)\n",
      "Requirement already satisfied: pyasn1<0.5.0,>=0.4.6 in /Users/anaconda3/lib/python3.7/site-packages (from pyasn1-modules>=0.2.1->google-auth<2,>=1.6.3->tensorboard~=2.5->tensorflow) (0.4.8)\n",
      "Requirement already satisfied: chardet<3.1.0,>=3.0.2 in /Users/anaconda3/lib/python3.7/site-packages (from requests<3,>=2.21.0->tensorboard~=2.5->tensorflow) (3.0.4)\n",
      "Requirement already satisfied: idna<2.9,>=2.5 in /Users/anaconda3/lib/python3.7/site-packages (from requests<3,>=2.21.0->tensorboard~=2.5->tensorflow) (2.8)\n",
      "Requirement already satisfied: urllib3!=1.25.0,!=1.25.1,<1.26,>=1.21.1 in /Users/anaconda3/lib/python3.7/site-packages (from requests<3,>=2.21.0->tensorboard~=2.5->tensorflow) (1.24.2)\n",
      "Requirement already satisfied: certifi>=2017.4.17 in /Users/anaconda3/lib/python3.7/site-packages (from requests<3,>=2.21.0->tensorboard~=2.5->tensorflow) (2019.9.11)\n",
      "Requirement already satisfied: oauthlib>=3.0.0 in /Users/anaconda3/lib/python3.7/site-packages (from requests-oauthlib>=0.7.0->google-auth-oauthlib<0.5,>=0.4.1->tensorboard~=2.5->tensorflow) (3.1.0)\n",
      "\u001b[33mWARNING: You are using pip version 21.0.1; however, version 21.2.4 is available.\n",
      "You should consider upgrading via the '/Users/anaconda3/bin/python -m pip install --upgrade pip' command.\u001b[0m\n",
      "Requirement already satisfied: keras in /Users/anaconda3/lib/python3.7/site-packages (2.4.3)\n",
      "Requirement already satisfied: scipy>=0.14 in /Users/anaconda3/lib/python3.7/site-packages (from keras) (1.6.2)\n",
      "Requirement already satisfied: numpy>=1.9.1 in /Users/anaconda3/lib/python3.7/site-packages (from keras) (1.19.5)\n",
      "Requirement already satisfied: pyyaml in /Users/anaconda3/lib/python3.7/site-packages (from keras) (5.1.2)\n",
      "Requirement already satisfied: h5py in /Users/anaconda3/lib/python3.7/site-packages (from keras) (3.1.0)\n",
      "Requirement already satisfied: cached-property in /Users/anaconda3/lib/python3.7/site-packages (from h5py->keras) (1.5.2)\n",
      "\u001b[33mWARNING: You are using pip version 21.0.1; however, version 21.2.4 is available.\n",
      "You should consider upgrading via the '/Users/anaconda3/bin/python -m pip install --upgrade pip' command.\u001b[0m\n"
     ]
    }
   ],
   "source": [
    "!pip install tensorflow\n",
    "!pip install keras "
   ]
  },
  {
   "cell_type": "code",
   "execution_count": 19,
   "metadata": {
    "ExecuteTime": {
     "end_time": "2021-08-20T16:35:16.244741Z",
     "start_time": "2021-08-20T16:35:16.222570Z"
    }
   },
   "outputs": [],
   "source": [
    "# fix random seed for reproducibility\n",
    "seed = 7\n",
    "numpy.random.seed(seed)\n",
    "# load pima indians dataset\n",
    "dataset = numpy.loadtxt(\"pima-indians-diabetes.csv\", delimiter=\",\")\n",
    "# split into input (X) and output (Y) variables\n",
    "X = dataset[:,0:8]\n",
    "Y = dataset[:,8]\n"
   ]
  },
  {
   "cell_type": "code",
   "execution_count": 20,
   "metadata": {
    "scrolled": true
   },
   "outputs": [
    {
     "data": {
      "text/plain": [
       "array([1., 0., 1., 0., 1., 0., 1., 0., 1., 1., 0., 1., 0., 1., 1., 1., 1.,\n",
       "       1., 0., 1., 0., 0., 1., 1., 1., 1., 1., 0., 0., 0., 0., 1., 0., 0.,\n",
       "       0., 0., 0., 1., 1., 1., 0., 0., 0., 1., 0., 1., 0., 0., 1., 0., 0.,\n",
       "       0., 0., 1., 0., 0., 1., 0., 0., 0., 0., 1., 0., 0., 1., 0., 1., 0.,\n",
       "       0., 0., 1., 0., 1., 0., 0., 0., 0., 0., 1., 0., 0., 0., 0., 0., 1.,\n",
       "       0., 0., 0., 1., 0., 0., 0., 0., 1., 0., 0., 0., 0., 0., 1., 1., 0.,\n",
       "       0., 0., 0., 0., 0., 0., 0., 1., 1., 1., 0., 0., 1., 1., 1., 0., 0.,\n",
       "       0., 1., 0., 0., 0., 1., 1., 0., 0., 1., 1., 1., 1., 1., 0., 0., 0.,\n",
       "       0., 0., 0., 0., 0., 0., 0., 1., 0., 0., 0., 0., 0., 0., 0., 0., 1.,\n",
       "       0., 1., 1., 0., 0., 0., 1., 0., 0., 0., 0., 1., 1., 0., 0., 0., 0.,\n",
       "       1., 1., 0., 0., 0., 1., 0., 1., 0., 1., 0., 0., 0., 0., 0., 1., 1.,\n",
       "       1., 1., 1., 0., 0., 1., 1., 0., 1., 0., 1., 1., 1., 0., 0., 0., 0.,\n",
       "       0., 0., 1., 1., 0., 1., 0., 0., 0., 1., 1., 1., 1., 0., 1., 1., 1.,\n",
       "       1., 0., 0., 0., 0., 0., 1., 0., 0., 1., 1., 0., 0., 0., 1., 1., 1.,\n",
       "       1., 0., 0., 0., 1., 1., 0., 1., 0., 0., 0., 0., 0., 0., 0., 0., 1.,\n",
       "       1., 0., 0., 0., 1., 0., 1., 0., 0., 1., 0., 1., 0., 0., 1., 1., 0.,\n",
       "       0., 0., 0., 0., 1., 0., 0., 0., 1., 0., 0., 1., 1., 0., 0., 1., 0.,\n",
       "       0., 0., 1., 1., 1., 0., 0., 1., 0., 1., 0., 1., 1., 0., 1., 0., 0.,\n",
       "       1., 0., 1., 1., 0., 0., 1., 0., 1., 0., 0., 1., 0., 1., 0., 1., 1.,\n",
       "       1., 0., 0., 1., 0., 1., 0., 0., 0., 1., 0., 0., 0., 0., 1., 1., 1.,\n",
       "       0., 0., 0., 0., 0., 0., 0., 0., 0., 1., 0., 0., 0., 0., 0., 1., 1.,\n",
       "       1., 0., 1., 1., 0., 0., 1., 0., 0., 1., 0., 0., 1., 1., 0., 0., 0.,\n",
       "       0., 1., 0., 0., 1., 0., 0., 0., 0., 0., 0., 0., 1., 1., 1., 0., 0.,\n",
       "       1., 0., 0., 1., 0., 0., 1., 0., 1., 1., 0., 1., 0., 1., 0., 1., 0.,\n",
       "       1., 1., 0., 0., 0., 0., 1., 1., 0., 1., 0., 1., 0., 0., 0., 0., 1.,\n",
       "       1., 0., 1., 0., 1., 0., 0., 0., 0., 0., 1., 0., 0., 0., 0., 1., 0.,\n",
       "       0., 1., 1., 1., 0., 0., 1., 0., 0., 1., 0., 0., 0., 1., 0., 0., 1.,\n",
       "       0., 0., 0., 0., 0., 0., 0., 0., 0., 1., 0., 0., 0., 0., 0., 0., 0.,\n",
       "       1., 0., 0., 0., 1., 0., 0., 0., 1., 1., 0., 0., 0., 0., 0., 0., 0.,\n",
       "       1., 0., 0., 0., 0., 1., 0., 0., 0., 1., 0., 0., 0., 1., 0., 0., 0.,\n",
       "       1., 0., 0., 0., 0., 1., 1., 0., 0., 0., 0., 0., 0., 1., 0., 0., 0.,\n",
       "       0., 0., 0., 0., 0., 0., 0., 0., 1., 0., 0., 0., 1., 1., 1., 1., 0.,\n",
       "       0., 1., 1., 0., 0., 0., 0., 0., 0., 0., 0., 0., 0., 0., 0., 0., 1.,\n",
       "       1., 0., 0., 0., 0., 0., 0., 0., 1., 0., 0., 0., 0., 0., 0., 0., 1.,\n",
       "       0., 1., 1., 0., 0., 0., 1., 0., 1., 0., 1., 0., 1., 0., 1., 0., 0.,\n",
       "       1., 0., 0., 1., 0., 0., 0., 0., 1., 1., 0., 1., 0., 0., 0., 0., 1.,\n",
       "       1., 0., 1., 0., 0., 0., 1., 1., 0., 0., 0., 0., 0., 0., 0., 0., 0.,\n",
       "       0., 1., 0., 0., 0., 0., 1., 0., 0., 1., 0., 0., 0., 1., 0., 0., 0.,\n",
       "       1., 1., 1., 0., 0., 0., 0., 0., 0., 1., 0., 0., 0., 1., 0., 1., 1.,\n",
       "       1., 1., 0., 1., 1., 0., 0., 0., 0., 0., 0., 0., 1., 1., 0., 1., 0.,\n",
       "       0., 1., 0., 1., 0., 0., 0., 0., 0., 1., 0., 1., 0., 1., 0., 1., 1.,\n",
       "       0., 0., 0., 0., 1., 1., 0., 0., 0., 1., 0., 1., 1., 0., 0., 1., 0.,\n",
       "       0., 1., 1., 0., 0., 1., 0., 0., 1., 0., 0., 0., 0., 0., 0., 0., 1.,\n",
       "       1., 1., 0., 0., 0., 0., 0., 0., 1., 1., 0., 0., 1., 0., 0., 1., 0.,\n",
       "       1., 1., 1., 0., 0., 1., 1., 1., 0., 1., 0., 1., 0., 1., 0., 0., 0.,\n",
       "       0., 1., 0.])"
      ]
     },
     "execution_count": 20,
     "metadata": {},
     "output_type": "execute_result"
    }
   ],
   "source": [
    "Y"
   ]
  },
  {
   "cell_type": "code",
   "execution_count": 15,
   "metadata": {
    "ExecuteTime": {
     "end_time": "2021-08-20T16:35:16.753390Z",
     "start_time": "2021-08-20T16:35:16.709350Z"
    }
   },
   "outputs": [],
   "source": [
    "# create model\n",
    "model = tf.keras.models.Sequential()\n",
    "model.add(tf.keras.layers.Dense(12, input_dim=8, activation='sigmoid'))\n",
    "model.add(tf.keras.layers.Dense(8,  activation='sigmoid'))\n",
    "model.add(tf.keras.layers.Dense(1, activation='sigmoid'))"
   ]
  },
  {
   "cell_type": "code",
   "execution_count": 16,
   "metadata": {
    "ExecuteTime": {
     "end_time": "2021-08-20T16:35:17.464088Z",
     "start_time": "2021-08-20T16:35:17.432852Z"
    }
   },
   "outputs": [
    {
     "name": "stdout",
     "output_type": "stream",
     "text": [
      "Model: \"sequential_1\"\n",
      "_________________________________________________________________\n",
      "Layer (type)                 Output Shape              Param #   \n",
      "=================================================================\n",
      "dense_3 (Dense)              (None, 12)                108       \n",
      "_________________________________________________________________\n",
      "dense_4 (Dense)              (None, 8)                 104       \n",
      "_________________________________________________________________\n",
      "dense_5 (Dense)              (None, 1)                 9         \n",
      "=================================================================\n",
      "Total params: 221\n",
      "Trainable params: 221\n",
      "Non-trainable params: 0\n",
      "_________________________________________________________________\n"
     ]
    }
   ],
   "source": [
    "model.summary()"
   ]
  },
  {
   "attachments": {
    "image.png": {
     "image/png": "[encoded data removed]"
    }
   },
   "cell_type": "markdown",
   "metadata": {},
   "source": [
    "![image.png](attachment:image.png)"
   ]
  },
  {
   "cell_type": "code",
   "execution_count": 17,
   "metadata": {
    "ExecuteTime": {
     "end_time": "2021-08-20T16:35:21.947173Z",
     "start_time": "2021-08-20T16:35:21.932330Z"
    }
   },
   "outputs": [],
   "source": [
    "# Compile model\n",
    "model.compile(loss='binary_crossentropy', optimizer='adam', metrics=['accuracy'])"
   ]
  },
  {
   "cell_type": "code",
   "execution_count": 6,
   "metadata": {
    "ExecuteTime": {
     "end_time": "2021-08-20T16:37:11.604553Z",
     "start_time": "2021-08-20T16:36:58.648429Z"
    },
    "scrolled": true
   },
   "outputs": [
    {
     "name": "stdout",
     "output_type": "stream",
     "text": [
      "Epoch 1/200\n",
      "7/7 [==============================] - 1s 24ms/step - loss: 0.7019 - accuracy: 0.3534 - val_loss: 0.6925 - val_accuracy: 0.5779\n",
      "Epoch 2/200\n",
      "7/7 [==============================] - 0s 4ms/step - loss: 0.6897 - accuracy: 0.6303 - val_loss: 0.6828 - val_accuracy: 0.6494\n",
      "Epoch 3/200\n",
      "7/7 [==============================] - 0s 4ms/step - loss: 0.6792 - accuracy: 0.6531 - val_loss: 0.6753 - val_accuracy: 0.6429\n",
      "Epoch 4/200\n",
      "7/7 [==============================] - 0s 4ms/step - loss: 0.6716 - accuracy: 0.6547 - val_loss: 0.6695 - val_accuracy: 0.6429\n",
      "Epoch 5/200\n",
      "7/7 [==============================] - 0s 5ms/step - loss: 0.6646 - accuracy: 0.6547 - val_loss: 0.6653 - val_accuracy: 0.6429\n",
      "Epoch 6/200\n",
      "7/7 [==============================] - 0s 4ms/step - loss: 0.6602 - accuracy: 0.6531 - val_loss: 0.6619 - val_accuracy: 0.6429\n",
      "Epoch 7/200\n",
      "7/7 [==============================] - 0s 4ms/step - loss: 0.6555 - accuracy: 0.6531 - val_loss: 0.6594 - val_accuracy: 0.6429\n",
      "Epoch 8/200\n",
      "7/7 [==============================] - 0s 5ms/step - loss: 0.6526 - accuracy: 0.6531 - val_loss: 0.6574 - val_accuracy: 0.6429\n",
      "Epoch 9/200\n",
      "7/7 [==============================] - 0s 4ms/step - loss: 0.6496 - accuracy: 0.6531 - val_loss: 0.6558 - val_accuracy: 0.6429\n",
      "Epoch 10/200\n",
      "7/7 [==============================] - 0s 4ms/step - loss: 0.6468 - accuracy: 0.6531 - val_loss: 0.6543 - val_accuracy: 0.6429\n",
      "Epoch 11/200\n",
      "7/7 [==============================] - 0s 4ms/step - loss: 0.6448 - accuracy: 0.6531 - val_loss: 0.6533 - val_accuracy: 0.6429\n",
      "Epoch 12/200\n",
      "7/7 [==============================] - 0s 4ms/step - loss: 0.6435 - accuracy: 0.6531 - val_loss: 0.6529 - val_accuracy: 0.6429\n",
      "Epoch 13/200\n",
      "7/7 [==============================] - 0s 4ms/step - loss: 0.6426 - accuracy: 0.6531 - val_loss: 0.6529 - val_accuracy: 0.6429\n",
      "Epoch 14/200\n",
      "7/7 [==============================] - 0s 4ms/step - loss: 0.6421 - accuracy: 0.6531 - val_loss: 0.6531 - val_accuracy: 0.6429\n",
      "Epoch 15/200\n",
      "7/7 [==============================] - 0s 4ms/step - loss: 0.6417 - accuracy: 0.6531 - val_loss: 0.6535 - val_accuracy: 0.6429\n",
      "Epoch 16/200\n",
      "7/7 [==============================] - 0s 4ms/step - loss: 0.6416 - accuracy: 0.6531 - val_loss: 0.6535 - val_accuracy: 0.6429\n",
      "Epoch 17/200\n",
      "7/7 [==============================] - 0s 4ms/step - loss: 0.6412 - accuracy: 0.6531 - val_loss: 0.6532 - val_accuracy: 0.6429\n",
      "Epoch 18/200\n",
      "7/7 [==============================] - 0s 4ms/step - loss: 0.6410 - accuracy: 0.6531 - val_loss: 0.6530 - val_accuracy: 0.6429\n",
      "Epoch 19/200\n",
      "7/7 [==============================] - 0s 4ms/step - loss: 0.6407 - accuracy: 0.6531 - val_loss: 0.6526 - val_accuracy: 0.6429\n",
      "Epoch 20/200\n",
      "7/7 [==============================] - 0s 4ms/step - loss: 0.6406 - accuracy: 0.6531 - val_loss: 0.6522 - val_accuracy: 0.6429\n",
      "Epoch 21/200\n",
      "7/7 [==============================] - 0s 4ms/step - loss: 0.6405 - accuracy: 0.6531 - val_loss: 0.6521 - val_accuracy: 0.6429\n",
      "Epoch 22/200\n",
      "7/7 [==============================] - 0s 5ms/step - loss: 0.6401 - accuracy: 0.6531 - val_loss: 0.6525 - val_accuracy: 0.6429\n",
      "Epoch 23/200\n",
      "7/7 [==============================] - 0s 4ms/step - loss: 0.6400 - accuracy: 0.6531 - val_loss: 0.6528 - val_accuracy: 0.6429\n",
      "Epoch 24/200\n",
      "7/7 [==============================] - 0s 4ms/step - loss: 0.6398 - accuracy: 0.6531 - val_loss: 0.6530 - val_accuracy: 0.6429\n",
      "Epoch 25/200\n",
      "7/7 [==============================] - 0s 4ms/step - loss: 0.6396 - accuracy: 0.6531 - val_loss: 0.6528 - val_accuracy: 0.6429\n",
      "Epoch 26/200\n",
      "7/7 [==============================] - 0s 4ms/step - loss: 0.6393 - accuracy: 0.6531 - val_loss: 0.6523 - val_accuracy: 0.6429\n",
      "Epoch 27/200\n",
      "7/7 [==============================] - 0s 4ms/step - loss: 0.6391 - accuracy: 0.6531 - val_loss: 0.6518 - val_accuracy: 0.6429\n",
      "Epoch 28/200\n",
      "7/7 [==============================] - 0s 4ms/step - loss: 0.6391 - accuracy: 0.6531 - val_loss: 0.6517 - val_accuracy: 0.6429\n",
      "Epoch 29/200\n",
      "7/7 [==============================] - 0s 4ms/step - loss: 0.6392 - accuracy: 0.6531 - val_loss: 0.6518 - val_accuracy: 0.6429\n",
      "Epoch 30/200\n",
      "7/7 [==============================] - 0s 4ms/step - loss: 0.6389 - accuracy: 0.6531 - val_loss: 0.6519 - val_accuracy: 0.6429\n",
      "Epoch 31/200\n",
      "7/7 [==============================] - 0s 4ms/step - loss: 0.6385 - accuracy: 0.6531 - val_loss: 0.6519 - val_accuracy: 0.6429\n",
      "Epoch 32/200\n",
      "7/7 [==============================] - 0s 4ms/step - loss: 0.6381 - accuracy: 0.6531 - val_loss: 0.6517 - val_accuracy: 0.6429\n",
      "Epoch 33/200\n",
      "7/7 [==============================] - 0s 4ms/step - loss: 0.6379 - accuracy: 0.6531 - val_loss: 0.6515 - val_accuracy: 0.6429\n",
      "Epoch 34/200\n",
      "7/7 [==============================] - 0s 4ms/step - loss: 0.6372 - accuracy: 0.6531 - val_loss: 0.6512 - val_accuracy: 0.6429\n",
      "Epoch 35/200\n",
      "7/7 [==============================] - 0s 4ms/step - loss: 0.6366 - accuracy: 0.6531 - val_loss: 0.6509 - val_accuracy: 0.6429\n",
      "Epoch 36/200\n",
      "7/7 [==============================] - 0s 4ms/step - loss: 0.6356 - accuracy: 0.6531 - val_loss: 0.6503 - val_accuracy: 0.6429\n",
      "Epoch 37/200\n",
      "7/7 [==============================] - 0s 4ms/step - loss: 0.6343 - accuracy: 0.6531 - val_loss: 0.6488 - val_accuracy: 0.6429\n",
      "Epoch 38/200\n",
      "7/7 [==============================] - 0s 4ms/step - loss: 0.6326 - accuracy: 0.6531 - val_loss: 0.6483 - val_accuracy: 0.6429\n",
      "Epoch 39/200\n",
      "7/7 [==============================] - 0s 4ms/step - loss: 0.6316 - accuracy: 0.6531 - val_loss: 0.6487 - val_accuracy: 0.6429\n",
      "Epoch 40/200\n",
      "7/7 [==============================] - 0s 4ms/step - loss: 0.6311 - accuracy: 0.6531 - val_loss: 0.6492 - val_accuracy: 0.6429\n",
      "Epoch 41/200\n",
      "7/7 [==============================] - 0s 4ms/step - loss: 0.6303 - accuracy: 0.6531 - val_loss: 0.6487 - val_accuracy: 0.6429\n",
      "Epoch 42/200\n",
      "7/7 [==============================] - 0s 4ms/step - loss: 0.6296 - accuracy: 0.6531 - val_loss: 0.6478 - val_accuracy: 0.6429\n",
      "Epoch 43/200\n",
      "7/7 [==============================] - 0s 4ms/step - loss: 0.6290 - accuracy: 0.6531 - val_loss: 0.6473 - val_accuracy: 0.6429\n",
      "Epoch 44/200\n",
      "7/7 [==============================] - 0s 4ms/step - loss: 0.6284 - accuracy: 0.6531 - val_loss: 0.6470 - val_accuracy: 0.6429\n",
      "Epoch 45/200\n",
      "7/7 [==============================] - 0s 4ms/step - loss: 0.6279 - accuracy: 0.6531 - val_loss: 0.6469 - val_accuracy: 0.6429\n",
      "Epoch 46/200\n",
      "7/7 [==============================] - 0s 5ms/step - loss: 0.6272 - accuracy: 0.6531 - val_loss: 0.6468 - val_accuracy: 0.6429\n",
      "Epoch 47/200\n",
      "7/7 [==============================] - 0s 5ms/step - loss: 0.6267 - accuracy: 0.6531 - val_loss: 0.6465 - val_accuracy: 0.6429\n",
      "Epoch 48/200\n",
      "7/7 [==============================] - 0s 4ms/step - loss: 0.6263 - accuracy: 0.6531 - val_loss: 0.6457 - val_accuracy: 0.6429\n",
      "Epoch 49/200\n",
      "7/7 [==============================] - 0s 4ms/step - loss: 0.6256 - accuracy: 0.6531 - val_loss: 0.6449 - val_accuracy: 0.6429\n",
      "Epoch 50/200\n",
      "7/7 [==============================] - 0s 4ms/step - loss: 0.6248 - accuracy: 0.6531 - val_loss: 0.6447 - val_accuracy: 0.6429\n",
      "Epoch 51/200\n",
      "7/7 [==============================] - 0s 4ms/step - loss: 0.6242 - accuracy: 0.6531 - val_loss: 0.6448 - val_accuracy: 0.6429\n",
      "Epoch 52/200\n",
      "7/7 [==============================] - 0s 4ms/step - loss: 0.6237 - accuracy: 0.6531 - val_loss: 0.6449 - val_accuracy: 0.6429\n",
      "Epoch 53/200\n",
      "7/7 [==============================] - 0s 4ms/step - loss: 0.6231 - accuracy: 0.6531 - val_loss: 0.6446 - val_accuracy: 0.6429\n",
      "Epoch 54/200\n",
      "7/7 [==============================] - 0s 4ms/step - loss: 0.6223 - accuracy: 0.6531 - val_loss: 0.6437 - val_accuracy: 0.6429\n",
      "Epoch 55/200\n",
      "7/7 [==============================] - 0s 4ms/step - loss: 0.6217 - accuracy: 0.6531 - val_loss: 0.6430 - val_accuracy: 0.6429\n",
      "Epoch 56/200\n",
      "7/7 [==============================] - 0s 4ms/step - loss: 0.6212 - accuracy: 0.6531 - val_loss: 0.6432 - val_accuracy: 0.6429\n",
      "Epoch 57/200\n",
      "7/7 [==============================] - 0s 4ms/step - loss: 0.6204 - accuracy: 0.6531 - val_loss: 0.6425 - val_accuracy: 0.6429\n",
      "Epoch 58/200\n",
      "7/7 [==============================] - 0s 4ms/step - loss: 0.6198 - accuracy: 0.6531 - val_loss: 0.6417 - val_accuracy: 0.6429\n",
      "Epoch 59/200\n",
      "7/7 [==============================] - 0s 4ms/step - loss: 0.6192 - accuracy: 0.6531 - val_loss: 0.6415 - val_accuracy: 0.6429\n",
      "Epoch 60/200\n",
      "7/7 [==============================] - 0s 4ms/step - loss: 0.6185 - accuracy: 0.6531 - val_loss: 0.6414 - val_accuracy: 0.6429\n",
      "Epoch 61/200\n",
      "7/7 [==============================] - 0s 4ms/step - loss: 0.6179 - accuracy: 0.6531 - val_loss: 0.6410 - val_accuracy: 0.6429\n",
      "Epoch 62/200\n",
      "7/7 [==============================] - 0s 4ms/step - loss: 0.6175 - accuracy: 0.6531 - val_loss: 0.6410 - val_accuracy: 0.6429\n",
      "Epoch 63/200\n",
      "7/7 [==============================] - 0s 4ms/step - loss: 0.6169 - accuracy: 0.6531 - val_loss: 0.6405 - val_accuracy: 0.6429\n",
      "Epoch 64/200\n",
      "7/7 [==============================] - 0s 4ms/step - loss: 0.6163 - accuracy: 0.6531 - val_loss: 0.6395 - val_accuracy: 0.6429\n",
      "Epoch 65/200\n",
      "7/7 [==============================] - 0s 4ms/step - loss: 0.6156 - accuracy: 0.6531 - val_loss: 0.6386 - val_accuracy: 0.6429\n",
      "Epoch 66/200\n",
      "7/7 [==============================] - 0s 4ms/step - loss: 0.6151 - accuracy: 0.6531 - val_loss: 0.6382 - val_accuracy: 0.6429\n",
      "Epoch 67/200\n",
      "7/7 [==============================] - 0s 4ms/step - loss: 0.6145 - accuracy: 0.6531 - val_loss: 0.6378 - val_accuracy: 0.6429\n",
      "Epoch 68/200\n",
      "7/7 [==============================] - 0s 4ms/step - loss: 0.6139 - accuracy: 0.6531 - val_loss: 0.6369 - val_accuracy: 0.6429\n",
      "Epoch 69/200\n",
      "7/7 [==============================] - 0s 4ms/step - loss: 0.6135 - accuracy: 0.6531 - val_loss: 0.6368 - val_accuracy: 0.6429\n",
      "Epoch 70/200\n",
      "7/7 [==============================] - 0s 4ms/step - loss: 0.6133 - accuracy: 0.6531 - val_loss: 0.6367 - val_accuracy: 0.6429\n",
      "Epoch 71/200\n",
      "7/7 [==============================] - 0s 4ms/step - loss: 0.6131 - accuracy: 0.6531 - val_loss: 0.6360 - val_accuracy: 0.6429\n",
      "Epoch 72/200\n",
      "7/7 [==============================] - 0s 4ms/step - loss: 0.6121 - accuracy: 0.6531 - val_loss: 0.6351 - val_accuracy: 0.6429\n",
      "Epoch 73/200\n",
      "7/7 [==============================] - 0s 5ms/step - loss: 0.6113 - accuracy: 0.6531 - val_loss: 0.6337 - val_accuracy: 0.6429\n",
      "Epoch 74/200\n",
      "7/7 [==============================] - 0s 4ms/step - loss: 0.6107 - accuracy: 0.6531 - val_loss: 0.6338 - val_accuracy: 0.6429\n",
      "Epoch 75/200\n",
      "7/7 [==============================] - 0s 4ms/step - loss: 0.6103 - accuracy: 0.6531 - val_loss: 0.6343 - val_accuracy: 0.6429\n",
      "Epoch 76/200\n",
      "7/7 [==============================] - 0s 4ms/step - loss: 0.6096 - accuracy: 0.6531 - val_loss: 0.6342 - val_accuracy: 0.6429\n",
      "Epoch 77/200\n",
      "7/7 [==============================] - 0s 4ms/step - loss: 0.6088 - accuracy: 0.6531 - val_loss: 0.6340 - val_accuracy: 0.6429\n",
      "Epoch 78/200\n",
      "7/7 [==============================] - 0s 4ms/step - loss: 0.6082 - accuracy: 0.6531 - val_loss: 0.6343 - val_accuracy: 0.6429\n",
      "Epoch 79/200\n",
      "7/7 [==============================] - 0s 4ms/step - loss: 0.6076 - accuracy: 0.6531 - val_loss: 0.6345 - val_accuracy: 0.6429\n",
      "Epoch 80/200\n",
      "7/7 [==============================] - 0s 4ms/step - loss: 0.6072 - accuracy: 0.6531 - val_loss: 0.6338 - val_accuracy: 0.6429\n",
      "Epoch 81/200\n",
      "7/7 [==============================] - 0s 4ms/step - loss: 0.6066 - accuracy: 0.6531 - val_loss: 0.6331 - val_accuracy: 0.6429\n",
      "Epoch 82/200\n",
      "7/7 [==============================] - 0s 5ms/step - loss: 0.6062 - accuracy: 0.6531 - val_loss: 0.6332 - val_accuracy: 0.6429\n",
      "Epoch 83/200\n",
      "7/7 [==============================] - 0s 4ms/step - loss: 0.6058 - accuracy: 0.6531 - val_loss: 0.6329 - val_accuracy: 0.6429\n",
      "Epoch 84/200\n",
      "7/7 [==============================] - 0s 4ms/step - loss: 0.6051 - accuracy: 0.6531 - val_loss: 0.6327 - val_accuracy: 0.6558\n",
      "Epoch 85/200\n",
      "7/7 [==============================] - 0s 4ms/step - loss: 0.6046 - accuracy: 0.6580 - val_loss: 0.6319 - val_accuracy: 0.6558\n",
      "Epoch 86/200\n",
      "7/7 [==============================] - 0s 5ms/step - loss: 0.6040 - accuracy: 0.6596 - val_loss: 0.6312 - val_accuracy: 0.6558\n",
      "Epoch 87/200\n",
      "7/7 [==============================] - 0s 5ms/step - loss: 0.6039 - accuracy: 0.6564 - val_loss: 0.6306 - val_accuracy: 0.6558\n",
      "Epoch 88/200\n",
      "7/7 [==============================] - 0s 5ms/step - loss: 0.6031 - accuracy: 0.6564 - val_loss: 0.6297 - val_accuracy: 0.6558\n",
      "Epoch 89/200\n",
      "7/7 [==============================] - 0s 5ms/step - loss: 0.6027 - accuracy: 0.6596 - val_loss: 0.6291 - val_accuracy: 0.6558\n",
      "Epoch 90/200\n",
      "7/7 [==============================] - 0s 4ms/step - loss: 0.6021 - accuracy: 0.6580 - val_loss: 0.6295 - val_accuracy: 0.6558\n",
      "Epoch 91/200\n",
      "7/7 [==============================] - 0s 5ms/step - loss: 0.6015 - accuracy: 0.6596 - val_loss: 0.6303 - val_accuracy: 0.6558\n",
      "Epoch 92/200\n",
      "7/7 [==============================] - 0s 4ms/step - loss: 0.6010 - accuracy: 0.6580 - val_loss: 0.6304 - val_accuracy: 0.6558\n",
      "Epoch 93/200\n",
      "7/7 [==============================] - 0s 4ms/step - loss: 0.6010 - accuracy: 0.6580 - val_loss: 0.6307 - val_accuracy: 0.6558\n",
      "Epoch 94/200\n",
      "7/7 [==============================] - 0s 4ms/step - loss: 0.6001 - accuracy: 0.6580 - val_loss: 0.6286 - val_accuracy: 0.6558\n",
      "Epoch 95/200\n",
      "7/7 [==============================] - 0s 4ms/step - loss: 0.5997 - accuracy: 0.6564 - val_loss: 0.6272 - val_accuracy: 0.6558\n",
      "Epoch 96/200\n",
      "7/7 [==============================] - 0s 4ms/step - loss: 0.5993 - accuracy: 0.6580 - val_loss: 0.6269 - val_accuracy: 0.6558\n",
      "Epoch 97/200\n",
      "7/7 [==============================] - 0s 4ms/step - loss: 0.5986 - accuracy: 0.6596 - val_loss: 0.6267 - val_accuracy: 0.6558\n",
      "Epoch 98/200\n",
      "7/7 [==============================] - 0s 5ms/step - loss: 0.5980 - accuracy: 0.6629 - val_loss: 0.6265 - val_accuracy: 0.6623\n",
      "Epoch 99/200\n",
      "7/7 [==============================] - 0s 4ms/step - loss: 0.5975 - accuracy: 0.6629 - val_loss: 0.6276 - val_accuracy: 0.6623\n",
      "Epoch 100/200\n",
      "7/7 [==============================] - 0s 4ms/step - loss: 0.5977 - accuracy: 0.6596 - val_loss: 0.6273 - val_accuracy: 0.6623\n",
      "Epoch 101/200\n",
      "7/7 [==============================] - 0s 4ms/step - loss: 0.5968 - accuracy: 0.6629 - val_loss: 0.6272 - val_accuracy: 0.6623\n",
      "Epoch 102/200\n",
      "7/7 [==============================] - 0s 4ms/step - loss: 0.5959 - accuracy: 0.6645 - val_loss: 0.6271 - val_accuracy: 0.6623\n",
      "Epoch 103/200\n",
      "7/7 [==============================] - 0s 4ms/step - loss: 0.5956 - accuracy: 0.6629 - val_loss: 0.6272 - val_accuracy: 0.6623\n",
      "Epoch 104/200\n",
      "7/7 [==============================] - 0s 4ms/step - loss: 0.5949 - accuracy: 0.6645 - val_loss: 0.6270 - val_accuracy: 0.6623\n",
      "Epoch 105/200\n",
      "7/7 [==============================] - 0s 4ms/step - loss: 0.5943 - accuracy: 0.6629 - val_loss: 0.6270 - val_accuracy: 0.6623\n",
      "Epoch 106/200\n",
      "7/7 [==============================] - 0s 4ms/step - loss: 0.5937 - accuracy: 0.6629 - val_loss: 0.6268 - val_accuracy: 0.6623\n",
      "Epoch 107/200\n",
      "7/7 [==============================] - 0s 4ms/step - loss: 0.5929 - accuracy: 0.6645 - val_loss: 0.6248 - val_accuracy: 0.6623\n",
      "Epoch 108/200\n",
      "7/7 [==============================] - 0s 4ms/step - loss: 0.5927 - accuracy: 0.6645 - val_loss: 0.6231 - val_accuracy: 0.6623\n",
      "Epoch 109/200\n",
      "7/7 [==============================] - 0s 4ms/step - loss: 0.5930 - accuracy: 0.6629 - val_loss: 0.6235 - val_accuracy: 0.6623\n",
      "Epoch 110/200\n",
      "7/7 [==============================] - 0s 4ms/step - loss: 0.5929 - accuracy: 0.6629 - val_loss: 0.6242 - val_accuracy: 0.6623\n",
      "Epoch 111/200\n",
      "7/7 [==============================] - 0s 4ms/step - loss: 0.5918 - accuracy: 0.6629 - val_loss: 0.6247 - val_accuracy: 0.6623\n",
      "Epoch 112/200\n",
      "7/7 [==============================] - 0s 4ms/step - loss: 0.5911 - accuracy: 0.6645 - val_loss: 0.6238 - val_accuracy: 0.6688\n",
      "Epoch 113/200\n",
      "7/7 [==============================] - 0s 4ms/step - loss: 0.5906 - accuracy: 0.6694 - val_loss: 0.6238 - val_accuracy: 0.6688\n",
      "Epoch 114/200\n",
      "7/7 [==============================] - 0s 4ms/step - loss: 0.5899 - accuracy: 0.6759 - val_loss: 0.6238 - val_accuracy: 0.6623\n",
      "Epoch 115/200\n",
      "7/7 [==============================] - 0s 4ms/step - loss: 0.5904 - accuracy: 0.6775 - val_loss: 0.6249 - val_accuracy: 0.6623\n",
      "Epoch 116/200\n",
      "7/7 [==============================] - 0s 4ms/step - loss: 0.5902 - accuracy: 0.6775 - val_loss: 0.6246 - val_accuracy: 0.6623\n",
      "Epoch 117/200\n"
     ]
    },
    {
     "name": "stdout",
     "output_type": "stream",
     "text": [
      "7/7 [==============================] - 0s 4ms/step - loss: 0.5889 - accuracy: 0.6775 - val_loss: 0.6240 - val_accuracy: 0.6623\n",
      "Epoch 118/200\n",
      "7/7 [==============================] - 0s 4ms/step - loss: 0.5888 - accuracy: 0.6775 - val_loss: 0.6230 - val_accuracy: 0.6623\n",
      "Epoch 119/200\n",
      "7/7 [==============================] - 0s 4ms/step - loss: 0.5882 - accuracy: 0.6759 - val_loss: 0.6217 - val_accuracy: 0.6623\n",
      "Epoch 120/200\n",
      "7/7 [==============================] - 0s 4ms/step - loss: 0.5879 - accuracy: 0.6710 - val_loss: 0.6217 - val_accuracy: 0.6558\n",
      "Epoch 121/200\n",
      "7/7 [==============================] - 0s 4ms/step - loss: 0.5875 - accuracy: 0.6775 - val_loss: 0.6229 - val_accuracy: 0.6623\n",
      "Epoch 122/200\n",
      "7/7 [==============================] - 0s 4ms/step - loss: 0.5874 - accuracy: 0.6775 - val_loss: 0.6214 - val_accuracy: 0.6623\n",
      "Epoch 123/200\n",
      "7/7 [==============================] - 0s 4ms/step - loss: 0.5862 - accuracy: 0.6775 - val_loss: 0.6215 - val_accuracy: 0.6558\n",
      "Epoch 124/200\n",
      "7/7 [==============================] - 0s 4ms/step - loss: 0.5864 - accuracy: 0.6726 - val_loss: 0.6217 - val_accuracy: 0.6494\n",
      "Epoch 125/200\n",
      "7/7 [==============================] - 0s 5ms/step - loss: 0.5865 - accuracy: 0.6678 - val_loss: 0.6189 - val_accuracy: 0.6494\n",
      "Epoch 126/200\n",
      "7/7 [==============================] - 0s 4ms/step - loss: 0.5861 - accuracy: 0.6678 - val_loss: 0.6165 - val_accuracy: 0.6558\n",
      "Epoch 127/200\n",
      "7/7 [==============================] - 0s 4ms/step - loss: 0.5849 - accuracy: 0.6694 - val_loss: 0.6165 - val_accuracy: 0.6623\n",
      "Epoch 128/200\n",
      "7/7 [==============================] - 0s 4ms/step - loss: 0.5843 - accuracy: 0.6792 - val_loss: 0.6166 - val_accuracy: 0.6623\n",
      "Epoch 129/200\n",
      "7/7 [==============================] - 0s 4ms/step - loss: 0.5843 - accuracy: 0.6775 - val_loss: 0.6165 - val_accuracy: 0.6558\n",
      "Epoch 130/200\n",
      "7/7 [==============================] - 0s 4ms/step - loss: 0.5842 - accuracy: 0.6759 - val_loss: 0.6160 - val_accuracy: 0.6494\n",
      "Epoch 131/200\n",
      "7/7 [==============================] - 0s 4ms/step - loss: 0.5837 - accuracy: 0.6710 - val_loss: 0.6150 - val_accuracy: 0.6558\n",
      "Epoch 132/200\n",
      "7/7 [==============================] - 0s 4ms/step - loss: 0.5837 - accuracy: 0.6726 - val_loss: 0.6139 - val_accuracy: 0.6558\n",
      "Epoch 133/200\n",
      "7/7 [==============================] - 0s 4ms/step - loss: 0.5830 - accuracy: 0.6743 - val_loss: 0.6154 - val_accuracy: 0.6623\n",
      "Epoch 134/200\n",
      "7/7 [==============================] - 0s 4ms/step - loss: 0.5815 - accuracy: 0.6759 - val_loss: 0.6177 - val_accuracy: 0.6623\n",
      "Epoch 135/200\n",
      "7/7 [==============================] - 0s 4ms/step - loss: 0.5818 - accuracy: 0.6808 - val_loss: 0.6176 - val_accuracy: 0.6623\n",
      "Epoch 136/200\n",
      "7/7 [==============================] - 0s 5ms/step - loss: 0.5838 - accuracy: 0.6726 - val_loss: 0.6153 - val_accuracy: 0.6623\n",
      "Epoch 137/200\n",
      "7/7 [==============================] - 0s 4ms/step - loss: 0.5816 - accuracy: 0.6743 - val_loss: 0.6154 - val_accuracy: 0.6623\n",
      "Epoch 138/200\n",
      "7/7 [==============================] - 0s 4ms/step - loss: 0.5814 - accuracy: 0.6759 - val_loss: 0.6149 - val_accuracy: 0.6623\n",
      "Epoch 139/200\n",
      "7/7 [==============================] - 0s 4ms/step - loss: 0.5809 - accuracy: 0.6759 - val_loss: 0.6154 - val_accuracy: 0.6623\n",
      "Epoch 140/200\n",
      "7/7 [==============================] - 0s 4ms/step - loss: 0.5805 - accuracy: 0.6759 - val_loss: 0.6164 - val_accuracy: 0.6623\n",
      "Epoch 141/200\n",
      "7/7 [==============================] - 0s 4ms/step - loss: 0.5799 - accuracy: 0.6726 - val_loss: 0.6151 - val_accuracy: 0.6623\n",
      "Epoch 142/200\n",
      "7/7 [==============================] - 0s 4ms/step - loss: 0.5788 - accuracy: 0.6726 - val_loss: 0.6145 - val_accuracy: 0.6623\n",
      "Epoch 143/200\n",
      "7/7 [==============================] - 0s 4ms/step - loss: 0.5788 - accuracy: 0.6743 - val_loss: 0.6138 - val_accuracy: 0.6623\n",
      "Epoch 144/200\n",
      "7/7 [==============================] - 0s 4ms/step - loss: 0.5788 - accuracy: 0.6743 - val_loss: 0.6144 - val_accuracy: 0.6623\n",
      "Epoch 145/200\n",
      "7/7 [==============================] - 0s 4ms/step - loss: 0.5782 - accuracy: 0.6743 - val_loss: 0.6153 - val_accuracy: 0.6623\n",
      "Epoch 146/200\n",
      "7/7 [==============================] - 0s 4ms/step - loss: 0.5781 - accuracy: 0.6743 - val_loss: 0.6155 - val_accuracy: 0.6623\n",
      "Epoch 147/200\n",
      "7/7 [==============================] - 0s 4ms/step - loss: 0.5778 - accuracy: 0.6710 - val_loss: 0.6153 - val_accuracy: 0.6558\n",
      "Epoch 148/200\n",
      "7/7 [==============================] - 0s 4ms/step - loss: 0.5773 - accuracy: 0.6743 - val_loss: 0.6142 - val_accuracy: 0.6623\n",
      "Epoch 149/200\n",
      "7/7 [==============================] - 0s 4ms/step - loss: 0.5768 - accuracy: 0.6922 - val_loss: 0.6127 - val_accuracy: 0.6558\n",
      "Epoch 150/200\n",
      "7/7 [==============================] - 0s 4ms/step - loss: 0.5760 - accuracy: 0.7101 - val_loss: 0.6108 - val_accuracy: 0.6494\n",
      "Epoch 151/200\n",
      "7/7 [==============================] - 0s 4ms/step - loss: 0.5757 - accuracy: 0.7117 - val_loss: 0.6099 - val_accuracy: 0.6688\n",
      "Epoch 152/200\n",
      "7/7 [==============================] - 0s 4ms/step - loss: 0.5752 - accuracy: 0.7150 - val_loss: 0.6115 - val_accuracy: 0.6688\n",
      "Epoch 153/200\n",
      "7/7 [==============================] - 0s 4ms/step - loss: 0.5758 - accuracy: 0.7068 - val_loss: 0.6133 - val_accuracy: 0.6688\n",
      "Epoch 154/200\n",
      "7/7 [==============================] - 0s 5ms/step - loss: 0.5749 - accuracy: 0.6824 - val_loss: 0.6124 - val_accuracy: 0.6623\n",
      "Epoch 155/200\n",
      "7/7 [==============================] - 0s 4ms/step - loss: 0.5736 - accuracy: 0.7068 - val_loss: 0.6100 - val_accuracy: 0.6429\n",
      "Epoch 156/200\n",
      "7/7 [==============================] - 0s 4ms/step - loss: 0.5754 - accuracy: 0.7215 - val_loss: 0.6096 - val_accuracy: 0.6818\n",
      "Epoch 157/200\n",
      "7/7 [==============================] - 0s 4ms/step - loss: 0.5768 - accuracy: 0.7296 - val_loss: 0.6112 - val_accuracy: 0.6688\n",
      "Epoch 158/200\n",
      "7/7 [==============================] - 0s 4ms/step - loss: 0.5745 - accuracy: 0.7280 - val_loss: 0.6112 - val_accuracy: 0.6623\n",
      "Epoch 159/200\n",
      "7/7 [==============================] - 0s 4ms/step - loss: 0.5733 - accuracy: 0.7182 - val_loss: 0.6110 - val_accuracy: 0.6623\n",
      "Epoch 160/200\n",
      "7/7 [==============================] - 0s 5ms/step - loss: 0.5724 - accuracy: 0.7134 - val_loss: 0.6095 - val_accuracy: 0.6558\n",
      "Epoch 161/200\n",
      "7/7 [==============================] - 0s 5ms/step - loss: 0.5720 - accuracy: 0.7117 - val_loss: 0.6092 - val_accuracy: 0.6558\n",
      "Epoch 162/200\n",
      "7/7 [==============================] - 0s 4ms/step - loss: 0.5717 - accuracy: 0.7117 - val_loss: 0.6106 - val_accuracy: 0.6623\n",
      "Epoch 163/200\n",
      "7/7 [==============================] - 0s 4ms/step - loss: 0.5719 - accuracy: 0.7085 - val_loss: 0.6109 - val_accuracy: 0.6623\n",
      "Epoch 164/200\n",
      "7/7 [==============================] - 0s 4ms/step - loss: 0.5711 - accuracy: 0.7150 - val_loss: 0.6098 - val_accuracy: 0.6558\n",
      "Epoch 165/200\n",
      "7/7 [==============================] - 0s 4ms/step - loss: 0.5708 - accuracy: 0.7117 - val_loss: 0.6108 - val_accuracy: 0.6429\n",
      "Epoch 166/200\n",
      "7/7 [==============================] - 0s 4ms/step - loss: 0.5703 - accuracy: 0.7182 - val_loss: 0.6092 - val_accuracy: 0.6494\n",
      "Epoch 167/200\n",
      "7/7 [==============================] - 0s 4ms/step - loss: 0.5705 - accuracy: 0.7199 - val_loss: 0.6083 - val_accuracy: 0.6688\n",
      "Epoch 168/200\n",
      "7/7 [==============================] - 0s 4ms/step - loss: 0.5708 - accuracy: 0.7182 - val_loss: 0.6077 - val_accuracy: 0.6753\n",
      "Epoch 169/200\n",
      "7/7 [==============================] - 0s 4ms/step - loss: 0.5695 - accuracy: 0.7150 - val_loss: 0.6074 - val_accuracy: 0.6494\n",
      "Epoch 170/200\n",
      "7/7 [==============================] - 0s 4ms/step - loss: 0.5689 - accuracy: 0.7215 - val_loss: 0.6072 - val_accuracy: 0.6558\n",
      "Epoch 171/200\n",
      "7/7 [==============================] - 0s 4ms/step - loss: 0.5690 - accuracy: 0.7248 - val_loss: 0.6061 - val_accuracy: 0.6623\n",
      "Epoch 172/200\n",
      "7/7 [==============================] - 0s 4ms/step - loss: 0.5697 - accuracy: 0.7264 - val_loss: 0.6057 - val_accuracy: 0.6688\n",
      "Epoch 173/200\n",
      "7/7 [==============================] - 0s 4ms/step - loss: 0.5690 - accuracy: 0.7264 - val_loss: 0.6066 - val_accuracy: 0.6558\n",
      "Epoch 174/200\n",
      "7/7 [==============================] - 0s 4ms/step - loss: 0.5679 - accuracy: 0.7280 - val_loss: 0.6092 - val_accuracy: 0.6623\n",
      "Epoch 175/200\n",
      "7/7 [==============================] - 0s 4ms/step - loss: 0.5686 - accuracy: 0.7215 - val_loss: 0.6079 - val_accuracy: 0.6753\n",
      "Epoch 176/200\n",
      "7/7 [==============================] - 0s 4ms/step - loss: 0.5682 - accuracy: 0.7248 - val_loss: 0.6073 - val_accuracy: 0.6753\n",
      "Epoch 177/200\n",
      "7/7 [==============================] - 0s 4ms/step - loss: 0.5674 - accuracy: 0.7329 - val_loss: 0.6069 - val_accuracy: 0.6688\n",
      "Epoch 178/200\n",
      "7/7 [==============================] - 0s 4ms/step - loss: 0.5668 - accuracy: 0.7345 - val_loss: 0.6068 - val_accuracy: 0.6623\n",
      "Epoch 179/200\n",
      "7/7 [==============================] - 0s 4ms/step - loss: 0.5659 - accuracy: 0.7313 - val_loss: 0.6086 - val_accuracy: 0.6558\n",
      "Epoch 180/200\n",
      "7/7 [==============================] - 0s 4ms/step - loss: 0.5664 - accuracy: 0.7231 - val_loss: 0.6084 - val_accuracy: 0.6558\n",
      "Epoch 181/200\n",
      "7/7 [==============================] - 0s 4ms/step - loss: 0.5662 - accuracy: 0.7280 - val_loss: 0.6078 - val_accuracy: 0.6688\n",
      "Epoch 182/200\n",
      "7/7 [==============================] - 0s 4ms/step - loss: 0.5654 - accuracy: 0.7296 - val_loss: 0.6071 - val_accuracy: 0.6753\n",
      "Epoch 183/200\n",
      "7/7 [==============================] - 0s 4ms/step - loss: 0.5658 - accuracy: 0.7296 - val_loss: 0.6078 - val_accuracy: 0.6753\n",
      "Epoch 184/200\n",
      "7/7 [==============================] - 0s 4ms/step - loss: 0.5660 - accuracy: 0.7280 - val_loss: 0.6066 - val_accuracy: 0.6688\n",
      "Epoch 185/200\n",
      "7/7 [==============================] - 0s 4ms/step - loss: 0.5659 - accuracy: 0.7296 - val_loss: 0.6046 - val_accuracy: 0.6688\n",
      "Epoch 186/200\n",
      "7/7 [==============================] - 0s 4ms/step - loss: 0.5649 - accuracy: 0.7313 - val_loss: 0.6052 - val_accuracy: 0.6753\n",
      "Epoch 187/200\n",
      "7/7 [==============================] - 0s 4ms/step - loss: 0.5649 - accuracy: 0.7280 - val_loss: 0.6059 - val_accuracy: 0.6753\n",
      "Epoch 188/200\n",
      "7/7 [==============================] - 0s 4ms/step - loss: 0.5641 - accuracy: 0.7313 - val_loss: 0.6045 - val_accuracy: 0.6818\n",
      "Epoch 189/200\n",
      "7/7 [==============================] - 0s 4ms/step - loss: 0.5653 - accuracy: 0.7345 - val_loss: 0.6039 - val_accuracy: 0.6883\n",
      "Epoch 190/200\n",
      "7/7 [==============================] - 0s 4ms/step - loss: 0.5659 - accuracy: 0.7313 - val_loss: 0.6065 - val_accuracy: 0.6753\n",
      "Epoch 191/200\n",
      "7/7 [==============================] - 0s 4ms/step - loss: 0.5638 - accuracy: 0.7313 - val_loss: 0.6099 - val_accuracy: 0.6688\n",
      "Epoch 192/200\n",
      "7/7 [==============================] - 0s 4ms/step - loss: 0.5635 - accuracy: 0.7280 - val_loss: 0.6099 - val_accuracy: 0.6688\n",
      "Epoch 193/200\n",
      "7/7 [==============================] - 0s 4ms/step - loss: 0.5629 - accuracy: 0.7264 - val_loss: 0.6088 - val_accuracy: 0.6623\n",
      "Epoch 194/200\n",
      "7/7 [==============================] - 0s 4ms/step - loss: 0.5629 - accuracy: 0.7296 - val_loss: 0.6053 - val_accuracy: 0.6688\n",
      "Epoch 195/200\n",
      "7/7 [==============================] - 0s 4ms/step - loss: 0.5627 - accuracy: 0.7362 - val_loss: 0.6043 - val_accuracy: 0.6688\n",
      "Epoch 196/200\n",
      "7/7 [==============================] - 0s 4ms/step - loss: 0.5625 - accuracy: 0.7280 - val_loss: 0.6064 - val_accuracy: 0.6623\n",
      "Epoch 197/200\n",
      "7/7 [==============================] - 0s 4ms/step - loss: 0.5624 - accuracy: 0.7280 - val_loss: 0.6057 - val_accuracy: 0.6623\n",
      "Epoch 198/200\n",
      "7/7 [==============================] - 0s 4ms/step - loss: 0.5627 - accuracy: 0.7296 - val_loss: 0.6036 - val_accuracy: 0.6688\n",
      "Epoch 199/200\n",
      "7/7 [==============================] - 0s 4ms/step - loss: 0.5623 - accuracy: 0.7378 - val_loss: 0.6052 - val_accuracy: 0.6818\n",
      "Epoch 200/200\n",
      "7/7 [==============================] - 0s 4ms/step - loss: 0.5630 - accuracy: 0.7296 - val_loss: 0.6087 - val_accuracy: 0.6818\n"
     ]
    }
   ],
   "source": [
    "# Fit the model\n",
    "history=model.fit(X, Y, validation_split=0.20, epochs=200, batch_size=100)"
   ]
  },
  {
   "cell_type": "code",
   "execution_count": 7,
   "metadata": {
    "ExecuteTime": {
     "end_time": "2021-08-20T16:31:47.148575Z",
     "start_time": "2021-08-20T16:31:47.101946Z"
    }
   },
   "outputs": [],
   "source": [
    "model.save_weights(\"mywt.kmw\")"
   ]
  },
  {
   "cell_type": "code",
   "execution_count": 8,
   "metadata": {
    "ExecuteTime": {
     "end_time": "2021-08-20T16:32:56.005264Z",
     "start_time": "2021-08-20T16:32:55.778336Z"
    }
   },
   "outputs": [
    {
     "name": "stdout",
     "output_type": "stream",
     "text": [
      "24/24 [==============================] - 0s 866us/step - loss: 0.5718 - accuracy: 0.7188\n",
      "accuracy: 71.88%\n"
     ]
    }
   ],
   "source": [
    "# evaluate the model\n",
    "scores = model.evaluate(X, Y)\n",
    "print(\"%s: %.2f%%\" % (model.metrics_names[1], scores[1]*100))"
   ]
  },
  {
   "cell_type": "code",
   "execution_count": 9,
   "metadata": {
    "ExecuteTime": {
     "end_time": "2021-08-20T16:31:47.944773Z",
     "start_time": "2021-08-20T16:31:47.927335Z"
    }
   },
   "outputs": [],
   "source": [
    "# Visualize training history\n",
    "\n",
    "# list all data in history\n",
    "model.history.history.keys()\n",
    "import matplotlib.pyplot as plt"
   ]
  },
  {
   "cell_type": "code",
   "execution_count": 10,
   "metadata": {
    "ExecuteTime": {
     "end_time": "2021-08-20T16:31:48.777162Z",
     "start_time": "2021-08-20T16:31:48.747941Z"
    }
   },
   "outputs": [
    {
     "data": {
      "text/plain": [
       "dict_keys(['loss', 'accuracy', 'val_loss', 'val_accuracy'])"
      ]
     },
     "execution_count": 10,
     "metadata": {},
     "output_type": "execute_result"
    }
   ],
   "source": [
    "history.history.keys()"
   ]
  },
  {
   "cell_type": "code",
   "execution_count": 11,
   "metadata": {
    "ExecuteTime": {
     "end_time": "2021-08-20T16:35:53.840709Z",
     "start_time": "2021-08-20T16:35:53.425418Z"
    }
   },
   "outputs": [
    {
     "data": {
      "image/png": "[encoded data removed]",
      "text/plain": [
       "<Figure size 432x288 with 1 Axes>"
      ]
     },
     "metadata": {
      "needs_background": "light"
     },
     "output_type": "display_data"
    },
    {
     "data": {
      "image/png": "[encoded data removed]",
      "text/plain": [
       "<Figure size 432x288 with 1 Axes>"
      ]
     },
     "metadata": {
      "needs_background": "light"
     },
     "output_type": "display_data"
    }
   ],
   "source": [
    "# summarize history for accuracy\n",
    "plt.plot(history.history['accuracy'])\n",
    "plt.plot(history.history['val_accuracy'])\n",
    "plt.title('model accuracy')\n",
    "plt.ylabel('accuracy')\n",
    "plt.xlabel('epoch')\n",
    "plt.legend(['train', 'test'], loc='upper left')\n",
    "plt.show()\n",
    "# summarize history for loss\n",
    "plt.plot(history.history['loss'])\n",
    "plt.plot(history.history['val_loss'])\n",
    "plt.title('model loss')\n",
    "plt.ylabel('loss')\n",
    "plt.xlabel('epoch')\n",
    "plt.legend(['train', 'test'], loc='upper left')\n",
    "plt.show()\n"
   ]
  },
  {
   "cell_type": "code",
   "execution_count": null,
   "metadata": {},
   "outputs": [],
   "source": []
  }
 ],
 "metadata": {
  "kernelspec": {
   "display_name": "Python 3",
   "language": "python",
   "name": "python3"
  },
  "language_info": {
   "codemirror_mode": {
    "name": "ipython",
    "version": 3
   },
   "file_extension": ".py",
   "mimetype": "text/x-python",
   "name": "python",
   "nbconvert_exporter": "python",
   "pygments_lexer": "ipython3",
   "version": "3.8.8"
  }
 },
 "nbformat": 4,
 "nbformat_minor": 2
}
