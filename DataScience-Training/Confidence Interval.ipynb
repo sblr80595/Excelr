{
 "cells": [
  {
   "cell_type": "code",
   "execution_count": 8,
   "metadata": {
    "ExecuteTime": {
     "end_time": "2021-11-17T03:14:54.101914Z",
     "start_time": "2021-11-17T03:14:54.095694Z"
    }
   },
   "outputs": [],
   "source": [
    "import scipy\n",
    "from scipy import stats\n",
    "import pandas as pd\n",
    "import numpy as np"
   ]
  },
  {
   "cell_type": "code",
   "execution_count": 11,
   "metadata": {},
   "outputs": [
    {
     "name": "stdout",
     "output_type": "stream",
     "text": [
      "Current working directory: C:\\Users\\svats21\\Documents\\ExcelR\n"
     ]
    }
   ],
   "source": [
    "import os\n",
    "cwd = os.getcwd()\n",
    "print(\"Current working directory:\", cwd)"
   ]
  },
  {
   "cell_type": "code",
   "execution_count": 12,
   "metadata": {
    "ExecuteTime": {
     "end_time": "2021-11-17T03:14:54.353734Z",
     "start_time": "2021-11-17T03:14:54.349293Z"
    }
   },
   "outputs": [
    {
     "data": {
      "text/plain": [
       "'1.7.1'"
      ]
     },
     "execution_count": 12,
     "metadata": {},
     "output_type": "execute_result"
    }
   ],
   "source": [
    "scipy.__version__"
   ]
  },
  {
   "cell_type": "code",
   "execution_count": 13,
   "metadata": {
    "ExecuteTime": {
     "end_time": "2021-11-17T03:07:42.807904Z",
     "start_time": "2021-11-17T03:07:42.669676Z"
    }
   },
   "outputs": [
    {
     "name": "stdout",
     "output_type": "stream",
     "text": [
      " Volume in drive C is OSDisk\n",
      " Volume Serial Number is 1A36-9B4C\n",
      "\n",
      " Directory of C:\\Users\\svats21\\Documents\\ExcelR\n",
      "\n",
      "20-11-2021  11:46    <DIR>          .\n",
      "20-11-2021  11:46    <DIR>          ..\n",
      "20-11-2021  11:40    <DIR>          .ipynb_checkpoints\n",
      "20-11-2021  11:28            87,155 beml_df.csv\n",
      "20-11-2021  11:46            11,117 Confidence Interval.ipynb\n",
      "20-11-2021  11:28            88,939 glaxo_df.csv\n",
      "               3 File(s)        187,211 bytes\n",
      "               3 Dir(s)  177,875,861,504 bytes free\n"
     ]
    }
   ],
   "source": [
    "ls"
   ]
  },
  {
   "cell_type": "code",
   "execution_count": 14,
   "metadata": {
    "ExecuteTime": {
     "end_time": "2021-11-17T03:07:43.150956Z",
     "start_time": "2021-11-17T03:07:43.131013Z"
    }
   },
   "outputs": [],
   "source": [
    "glaxo_df=pd.read_csv('glaxo_df.csv')"
   ]
  },
  {
   "cell_type": "code",
   "execution_count": 12,
   "metadata": {
    "ExecuteTime": {
     "end_time": "2021-11-17T03:07:43.571533Z",
     "start_time": "2021-11-17T03:07:43.537569Z"
    }
   },
   "outputs": [
    {
     "data": {
      "text/html": [
       "<div>\n",
       "<style scoped>\n",
       "    .dataframe tbody tr th:only-of-type {\n",
       "        vertical-align: middle;\n",
       "    }\n",
       "\n",
       "    .dataframe tbody tr th {\n",
       "        vertical-align: top;\n",
       "    }\n",
       "\n",
       "    .dataframe thead th {\n",
       "        text-align: right;\n",
       "    }\n",
       "</style>\n",
       "<table border=\"1\" class=\"dataframe\">\n",
       "  <thead>\n",
       "    <tr style=\"text-align: right;\">\n",
       "      <th></th>\n",
       "      <th>Date</th>\n",
       "      <th>Date.1</th>\n",
       "      <th>Close</th>\n",
       "      <th>gain</th>\n",
       "    </tr>\n",
       "  </thead>\n",
       "  <tbody>\n",
       "    <tr>\n",
       "      <th>0</th>\n",
       "      <td>2010-01-05</td>\n",
       "      <td>2010-01-05</td>\n",
       "      <td>1616.80</td>\n",
       "      <td>-0.005444</td>\n",
       "    </tr>\n",
       "    <tr>\n",
       "      <th>1</th>\n",
       "      <td>2010-01-06</td>\n",
       "      <td>2010-01-06</td>\n",
       "      <td>1638.50</td>\n",
       "      <td>0.013422</td>\n",
       "    </tr>\n",
       "    <tr>\n",
       "      <th>2</th>\n",
       "      <td>2010-01-07</td>\n",
       "      <td>2010-01-07</td>\n",
       "      <td>1648.70</td>\n",
       "      <td>0.006225</td>\n",
       "    </tr>\n",
       "    <tr>\n",
       "      <th>3</th>\n",
       "      <td>2010-01-08</td>\n",
       "      <td>2010-01-08</td>\n",
       "      <td>1639.80</td>\n",
       "      <td>-0.005398</td>\n",
       "    </tr>\n",
       "    <tr>\n",
       "      <th>4</th>\n",
       "      <td>2010-01-11</td>\n",
       "      <td>2010-01-11</td>\n",
       "      <td>1629.45</td>\n",
       "      <td>-0.006312</td>\n",
       "    </tr>\n",
       "    <tr>\n",
       "      <th>...</th>\n",
       "      <td>...</td>\n",
       "      <td>...</td>\n",
       "      <td>...</td>\n",
       "      <td>...</td>\n",
       "    </tr>\n",
       "    <tr>\n",
       "      <th>1733</th>\n",
       "      <td>2016-12-26</td>\n",
       "      <td>2016-12-26</td>\n",
       "      <td>2723.50</td>\n",
       "      <td>-0.001283</td>\n",
       "    </tr>\n",
       "    <tr>\n",
       "      <th>1734</th>\n",
       "      <td>2016-12-27</td>\n",
       "      <td>2016-12-27</td>\n",
       "      <td>2701.75</td>\n",
       "      <td>-0.007986</td>\n",
       "    </tr>\n",
       "    <tr>\n",
       "      <th>1735</th>\n",
       "      <td>2016-12-28</td>\n",
       "      <td>2016-12-28</td>\n",
       "      <td>2702.15</td>\n",
       "      <td>0.000148</td>\n",
       "    </tr>\n",
       "    <tr>\n",
       "      <th>1736</th>\n",
       "      <td>2016-12-29</td>\n",
       "      <td>2016-12-29</td>\n",
       "      <td>2727.90</td>\n",
       "      <td>0.009529</td>\n",
       "    </tr>\n",
       "    <tr>\n",
       "      <th>1737</th>\n",
       "      <td>2016-12-30</td>\n",
       "      <td>2016-12-30</td>\n",
       "      <td>2729.80</td>\n",
       "      <td>0.000697</td>\n",
       "    </tr>\n",
       "  </tbody>\n",
       "</table>\n",
       "<p>1738 rows × 4 columns</p>\n",
       "</div>"
      ],
      "text/plain": [
       "            Date      Date.1    Close      gain\n",
       "0     2010-01-05  2010-01-05  1616.80 -0.005444\n",
       "1     2010-01-06  2010-01-06  1638.50  0.013422\n",
       "2     2010-01-07  2010-01-07  1648.70  0.006225\n",
       "3     2010-01-08  2010-01-08  1639.80 -0.005398\n",
       "4     2010-01-11  2010-01-11  1629.45 -0.006312\n",
       "...          ...         ...      ...       ...\n",
       "1733  2016-12-26  2016-12-26  2723.50 -0.001283\n",
       "1734  2016-12-27  2016-12-27  2701.75 -0.007986\n",
       "1735  2016-12-28  2016-12-28  2702.15  0.000148\n",
       "1736  2016-12-29  2016-12-29  2727.90  0.009529\n",
       "1737  2016-12-30  2016-12-30  2729.80  0.000697\n",
       "\n",
       "[1738 rows x 4 columns]"
      ]
     },
     "execution_count": 12,
     "metadata": {},
     "output_type": "execute_result"
    }
   ],
   "source": [
    "glaxo_df"
   ]
  },
  {
   "cell_type": "code",
   "execution_count": 17,
   "metadata": {
    "ExecuteTime": {
     "end_time": "2021-11-17T03:07:43.930082Z",
     "start_time": "2021-11-17T03:07:43.894575Z"
    }
   },
   "outputs": [
    {
     "name": "stdout",
     "output_type": "stream",
     "text": [
      "Gain at 95% confidence interval is: [-0.02580013  0.02657222]\n"
     ]
    }
   ],
   "source": [
    "glaxo_df_ci = stats.norm.interval(0.95,\n",
    "loc = glaxo_df.gain.mean(),\n",
    "scale = glaxo_df.gain.std())\n",
    "print( 'Gain at 95% confidence interval is:', np.round(glaxo_df_ci,8))"
   ]
  },
  {
   "cell_type": "code",
   "execution_count": 18,
   "metadata": {
    "ExecuteTime": {
     "end_time": "2021-11-17T03:07:44.396914Z",
     "start_time": "2021-11-17T03:07:44.382797Z"
    }
   },
   "outputs": [
    {
     "data": {
      "text/plain": [
       "(-0.05153272968060135, 0.052074225838715835)"
      ]
     },
     "execution_count": 18,
     "metadata": {},
     "output_type": "execute_result"
    }
   ],
   "source": [
    "beml_df=pd.read_csv('beml_df.csv')\n",
    "\n",
    "beml_df_ci = stats. norm.interval(0.95,\n",
    "loc=beml_df.gain.mean(),\n",
    "scale=beml_df.gain.std())\n",
    "beml_df_ci"
   ]
  },
  {
   "cell_type": "markdown",
   "metadata": {},
   "source": [
    "# t-distribution"
   ]
  },
  {
   "cell_type": "code",
   "execution_count": 19,
   "metadata": {
    "ExecuteTime": {
     "end_time": "2021-11-17T03:09:39.455011Z",
     "start_time": "2021-11-17T03:09:39.440351Z"
    }
   },
   "outputs": [
    {
     "data": {
      "text/plain": [
       "(-0.051568830973423074, 0.05211032713153756)"
      ]
     },
     "execution_count": 19,
     "metadata": {},
     "output_type": "execute_result"
    }
   ],
   "source": [
    "beml_df=pd.read_csv('beml_df.csv')\n",
    "\n",
    "beml_df_ci = stats. t .interval(0.95,1738,\n",
    "beml_df.gain.mean(),\n",
    "beml_df.gain.std())\n",
    "beml_df_ci"
   ]
  },
  {
   "cell_type": "code",
   "execution_count": 25,
   "metadata": {
    "ExecuteTime": {
     "end_time": "2021-11-17T03:09:40.133255Z",
     "start_time": "2021-11-17T03:09:40.115895Z"
    }
   },
   "outputs": [
    {
     "data": {
      "text/plain": [
       "(-0.05156885177136771, 0.052110347929482194)"
      ]
     },
     "execution_count": 25,
     "metadata": {},
     "output_type": "execute_result"
    }
   ],
   "source": [
    "beml_df=pd.read_csv('beml_df.csv')\n",
    "\n",
    "beml_df_ci = stats. t .interval(0.95,1737,\n",
    "beml_df.gain.mean(),\n",
    "beml_df.gain.std())\n",
    "beml_df_ci"
   ]
  },
  {
   "cell_type": "code",
   "execution_count": 20,
   "metadata": {
    "ExecuteTime": {
     "end_time": "2021-11-17T03:07:46.126928Z",
     "start_time": "2021-11-17T03:07:46.098618Z"
    }
   },
   "outputs": [
    {
     "data": {
      "text/plain": [
       "(1738, 4)"
      ]
     },
     "execution_count": 20,
     "metadata": {},
     "output_type": "execute_result"
    }
   ],
   "source": [
    "glaxo_df.shape"
   ]
  },
  {
   "cell_type": "code",
   "execution_count": 21,
   "metadata": {
    "ExecuteTime": {
     "end_time": "2021-11-17T03:08:36.268040Z",
     "start_time": "2021-11-17T03:08:36.254101Z"
    }
   },
   "outputs": [
    {
     "data": {
      "text/plain": [
       "(-0.025818392673533995, 0.026590474838718584)"
      ]
     },
     "execution_count": 21,
     "metadata": {},
     "output_type": "execute_result"
    }
   ],
   "source": [
    "glaxo_df=pd.read_csv('glaxo_df.csv')\n",
    "\n",
    "glaxo_df_ci = stats.t.interval(0.95,1737,\n",
    "loc = glaxo_df.gain.mean(),\n",
    "scale = glaxo_df.gain.std())\n",
    "glaxo_df_ci"
   ]
  },
  {
   "cell_type": "code",
   "execution_count": 22,
   "metadata": {
    "ExecuteTime": {
     "end_time": "2021-11-17T03:07:54.326676Z",
     "start_time": "2021-11-17T03:07:54.311766Z"
    }
   },
   "outputs": [],
   "source": [
    "??stats.t.interval"
   ]
  },
  {
   "cell_type": "code",
   "execution_count": null,
   "metadata": {},
   "outputs": [],
   "source": []
  }
 ],
 "metadata": {
  "kernelspec": {
   "display_name": "Python 3 (ipykernel)",
   "language": "python",
   "name": "python3"
  },
  "language_info": {
   "codemirror_mode": {
    "name": "ipython",
    "version": 3
   },
   "file_extension": ".py",
   "mimetype": "text/x-python",
   "name": "python",
   "nbconvert_exporter": "python",
   "pygments_lexer": "ipython3",
   "version": "3.9.7"
  }
 },
 "nbformat": 4,
 "nbformat_minor": 2
}
