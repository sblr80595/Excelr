{
 "cells": [
  {
   "cell_type": "markdown",
   "id": "4ffb4fc9",
   "metadata": {},
   "source": [
    "## Comprehensions"
   ]
  },
  {
   "cell_type": "markdown",
   "id": "a6659c43",
   "metadata": {},
   "source": [
    "### List Comprehensions"
   ]
  },
  {
   "cell_type": "code",
   "execution_count": 3,
   "id": "957dac2c",
   "metadata": {},
   "outputs": [],
   "source": [
    "#Create a list of some numbers and write the squares of same numbers"
   ]
  },
  {
   "cell_type": "code",
   "execution_count": 4,
   "id": "1a8b8ec0",
   "metadata": {},
   "outputs": [],
   "source": [
    "sq_list=[]\n",
    "for i in range(1,11):\n",
    "    sq_list.append(i*i)"
   ]
  },
  {
   "cell_type": "code",
   "execution_count": 5,
   "id": "84292d19",
   "metadata": {},
   "outputs": [
    {
     "data": {
      "text/plain": [
       "[1, 4, 9, 16, 25, 36, 49, 64, 81, 100]"
      ]
     },
     "execution_count": 5,
     "metadata": {},
     "output_type": "execute_result"
    }
   ],
   "source": [
    "sq_list"
   ]
  },
  {
   "cell_type": "code",
   "execution_count": 6,
   "id": "6fe12e1a",
   "metadata": {},
   "outputs": [],
   "source": [
    "num_list=range(1,11)"
   ]
  },
  {
   "cell_type": "code",
   "execution_count": 7,
   "id": "b465b725",
   "metadata": {},
   "outputs": [
    {
     "name": "stdout",
     "output_type": "stream",
     "text": [
      "[1, 4, 9, 16, 25, 36, 49, 64, 81, 100]\n"
     ]
    }
   ],
   "source": [
    "sq_list=[]\n",
    "for i in num_list:\n",
    "    sqs=i**2\n",
    "    sq_list.append(sqs)\n",
    "print(sq_list)"
   ]
  },
  {
   "cell_type": "code",
   "execution_count": 8,
   "id": "a408dc97",
   "metadata": {},
   "outputs": [],
   "source": [
    "sq_list=[]"
   ]
  },
  {
   "cell_type": "code",
   "execution_count": 9,
   "id": "4155c370",
   "metadata": {},
   "outputs": [
    {
     "name": "stdout",
     "output_type": "stream",
     "text": [
      "[]\n"
     ]
    }
   ],
   "source": [
    "print(sq_list)"
   ]
  },
  {
   "cell_type": "code",
   "execution_count": 10,
   "id": "8c2fd529",
   "metadata": {},
   "outputs": [],
   "source": [
    "sq_list=[i**2 for i in range(1,11)]  #list comprehension"
   ]
  },
  {
   "cell_type": "code",
   "execution_count": 11,
   "id": "eeeb7fcb",
   "metadata": {},
   "outputs": [
    {
     "data": {
      "text/plain": [
       "[1, 4, 9, 16, 25, 36, 49, 64, 81, 100]"
      ]
     },
     "execution_count": 11,
     "metadata": {},
     "output_type": "execute_result"
    }
   ],
   "source": [
    "sq_list"
   ]
  },
  {
   "cell_type": "code",
   "execution_count": 12,
   "id": "a9768ca2",
   "metadata": {},
   "outputs": [],
   "source": [
    "sq_list=[lambda x:x*x for x in range(1,11)] "
   ]
  },
  {
   "cell_type": "code",
   "execution_count": 13,
   "id": "0c6ed3aa",
   "metadata": {},
   "outputs": [
    {
     "name": "stdout",
     "output_type": "stream",
     "text": [
      "[<function <listcomp>.<lambda> at 0x00000297D558F310>, <function <listcomp>.<lambda> at 0x00000297D558F3A0>, <function <listcomp>.<lambda> at 0x00000297D558F280>, <function <listcomp>.<lambda> at 0x00000297D558F160>, <function <listcomp>.<lambda> at 0x00000297D558F430>, <function <listcomp>.<lambda> at 0x00000297D558F4C0>, <function <listcomp>.<lambda> at 0x00000297D558F550>, <function <listcomp>.<lambda> at 0x00000297D558F5E0>, <function <listcomp>.<lambda> at 0x00000297D558F670>, <function <listcomp>.<lambda> at 0x00000297D558F700>]\n"
     ]
    }
   ],
   "source": [
    "print(sq_list)"
   ]
  },
  {
   "cell_type": "code",
   "execution_count": 14,
   "id": "925c1009",
   "metadata": {},
   "outputs": [
    {
     "name": "stdout",
     "output_type": "stream",
     "text": [
      "[2, 4, 6, 8, 10, 12, 14, 16, 18, 20]\n"
     ]
    }
   ],
   "source": [
    "#write a program to print all numbers between 1 and 21 divisible by 2.\n",
    "#traditional way\n",
    "result=[]\n",
    "for i in range(1,21):\n",
    "    if i%2 == 0:\n",
    "        result.append(i)\n",
    "print(result)"
   ]
  },
  {
   "cell_type": "code",
   "execution_count": 15,
   "id": "4fd7c59a",
   "metadata": {},
   "outputs": [],
   "source": [
    "#using list comprehension\n",
    "result=[i for i in range(1,21) if i%2==0]"
   ]
  },
  {
   "cell_type": "code",
   "execution_count": 16,
   "id": "f6825fea",
   "metadata": {},
   "outputs": [
    {
     "data": {
      "text/plain": [
       "[2, 4, 6, 8, 10, 12, 14, 16, 18, 20]"
      ]
     },
     "execution_count": 16,
     "metadata": {},
     "output_type": "execute_result"
    }
   ],
   "source": [
    "result"
   ]
  },
  {
   "cell_type": "code",
   "execution_count": 17,
   "id": "b0ad8de4",
   "metadata": {},
   "outputs": [],
   "source": [
    "#write a program to get list of all the characters from subject \n",
    "#which are consonants\n",
    "subject=\"MATEHMATICS\""
   ]
  },
  {
   "cell_type": "code",
   "execution_count": 18,
   "id": "6ccb1cbf",
   "metadata": {},
   "outputs": [
    {
     "name": "stdout",
     "output_type": "stream",
     "text": [
      "['M', 'T', 'H', 'M', 'T', 'C', 'S']\n"
     ]
    }
   ],
   "source": [
    "#traditional way\n",
    "result=[]\n",
    "for i in subject:\n",
    "    if i not in \"AEIOU\":\n",
    "        result.append(i)\n",
    "print( result)"
   ]
  },
  {
   "cell_type": "code",
   "execution_count": 19,
   "id": "181ee4ec",
   "metadata": {},
   "outputs": [],
   "source": [
    "result=[i for i in subject if i not in \"AEIOU\"]  #list comprehension"
   ]
  },
  {
   "cell_type": "code",
   "execution_count": 20,
   "id": "3cc91ebe",
   "metadata": {},
   "outputs": [
    {
     "data": {
      "text/plain": [
       "['M', 'T', 'H', 'M', 'T', 'C', 'S']"
      ]
     },
     "execution_count": 20,
     "metadata": {},
     "output_type": "execute_result"
    }
   ],
   "source": [
    "result"
   ]
  },
  {
   "cell_type": "code",
   "execution_count": 21,
   "id": "ff080dc6",
   "metadata": {},
   "outputs": [],
   "source": [
    "websites = [\"amazon\",\"flipkart\",\"snapdeal\",\"myntra\"]"
   ]
  },
  {
   "cell_type": "code",
   "execution_count": 22,
   "id": "b64b0b1b",
   "metadata": {},
   "outputs": [
    {
     "data": {
      "text/plain": [
       "list"
      ]
     },
     "execution_count": 22,
     "metadata": {},
     "output_type": "execute_result"
    }
   ],
   "source": [
    "type(websites)"
   ]
  },
  {
   "cell_type": "code",
   "execution_count": 23,
   "id": "6193b0ff",
   "metadata": {},
   "outputs": [],
   "source": [
    "#output expected as www.amazon.com, www.flipkart.com using list comprehension"
   ]
  },
  {
   "cell_type": "code",
   "execution_count": 24,
   "id": "229ad377",
   "metadata": {},
   "outputs": [],
   "source": [
    "result= [\"www.\"+i+\".com\" for i in websites]"
   ]
  },
  {
   "cell_type": "code",
   "execution_count": 25,
   "id": "bdb05a1f",
   "metadata": {},
   "outputs": [
    {
     "data": {
      "text/plain": [
       "['www.amazon.com', 'www.flipkart.com', 'www.snapdeal.com', 'www.myntra.com']"
      ]
     },
     "execution_count": 25,
     "metadata": {},
     "output_type": "execute_result"
    }
   ],
   "source": [
    "result"
   ]
  },
  {
   "cell_type": "code",
   "execution_count": 26,
   "id": "8a17c18c",
   "metadata": {},
   "outputs": [],
   "source": [
    "#write a program which will find all such numbers which are divisible by 7, \n",
    "#but not a multiple of 5 for eg: avoid 35. between 200 to 320"
   ]
  },
  {
   "cell_type": "code",
   "execution_count": 27,
   "id": "9a463f07",
   "metadata": {},
   "outputs": [],
   "source": [
    "result=[i for i in range(200,321) if (i%7==0 and i%5!=0)]"
   ]
  },
  {
   "cell_type": "code",
   "execution_count": 28,
   "id": "116592ca",
   "metadata": {},
   "outputs": [
    {
     "data": {
      "text/plain": [
       "[203, 217, 224, 231, 238, 252, 259, 266, 273, 287, 294, 301, 308]"
      ]
     },
     "execution_count": 28,
     "metadata": {},
     "output_type": "execute_result"
    }
   ],
   "source": [
    "result"
   ]
  },
  {
   "cell_type": "markdown",
   "id": "082b3865",
   "metadata": {},
   "source": [
    "### Dictionary Comprehension"
   ]
  },
  {
   "cell_type": "code",
   "execution_count": 29,
   "id": "7c56140c",
   "metadata": {},
   "outputs": [],
   "source": [
    "# given any number n as 5, Create a dictionary like mentioned below\n",
    "# {1:1,2:4,3:9,4:16}"
   ]
  },
  {
   "cell_type": "code",
   "execution_count": 30,
   "id": "ff2a601e",
   "metadata": {},
   "outputs": [],
   "source": [
    "#traditional way\n",
    "result = {}\n",
    "for i in range(1,5):\n",
    "    result[i] = i*i"
   ]
  },
  {
   "cell_type": "code",
   "execution_count": 31,
   "id": "c5b6cbbc",
   "metadata": {},
   "outputs": [
    {
     "data": {
      "text/plain": [
       "{1: 1, 2: 4, 3: 9, 4: 16}"
      ]
     },
     "execution_count": 31,
     "metadata": {},
     "output_type": "execute_result"
    }
   ],
   "source": [
    "result"
   ]
  },
  {
   "cell_type": "code",
   "execution_count": 32,
   "id": "9c02854b",
   "metadata": {},
   "outputs": [],
   "source": [
    "#Dictionary comprehension\n",
    "result={i:i*i for i in range(1,5)}"
   ]
  },
  {
   "cell_type": "code",
   "execution_count": 33,
   "id": "9938e425",
   "metadata": {},
   "outputs": [
    {
     "data": {
      "text/plain": [
       "{1: 1, 2: 4, 3: 9, 4: 16}"
      ]
     },
     "execution_count": 33,
     "metadata": {},
     "output_type": "execute_result"
    }
   ],
   "source": [
    "result"
   ]
  },
  {
   "cell_type": "code",
   "execution_count": 34,
   "id": "d4b88ddf",
   "metadata": {},
   "outputs": [],
   "source": [
    "s = \"The Quick Brown Fox Jumped Over the Lazy Dog\""
   ]
  },
  {
   "cell_type": "code",
   "execution_count": 35,
   "id": "cd83e105",
   "metadata": {},
   "outputs": [
    {
     "data": {
      "text/plain": [
       "1"
      ]
     },
     "execution_count": 35,
     "metadata": {},
     "output_type": "execute_result"
    }
   ],
   "source": [
    "s.count(\"t\")"
   ]
  },
  {
   "cell_type": "code",
   "execution_count": 36,
   "id": "ad135180",
   "metadata": {},
   "outputs": [],
   "source": [
    "#count each character frequency in a text\n",
    "result={i: s.count(i) for i in s}"
   ]
  },
  {
   "cell_type": "code",
   "execution_count": 37,
   "id": "34fb8d09",
   "metadata": {},
   "outputs": [
    {
     "data": {
      "text/plain": [
       "{'T': 1,\n",
       " 'h': 2,\n",
       " 'e': 4,\n",
       " ' ': 8,\n",
       " 'Q': 1,\n",
       " 'u': 2,\n",
       " 'i': 1,\n",
       " 'c': 1,\n",
       " 'k': 1,\n",
       " 'B': 1,\n",
       " 'r': 2,\n",
       " 'o': 3,\n",
       " 'w': 1,\n",
       " 'n': 1,\n",
       " 'F': 1,\n",
       " 'x': 1,\n",
       " 'J': 1,\n",
       " 'm': 1,\n",
       " 'p': 1,\n",
       " 'd': 1,\n",
       " 'O': 1,\n",
       " 'v': 1,\n",
       " 't': 1,\n",
       " 'L': 1,\n",
       " 'a': 1,\n",
       " 'z': 1,\n",
       " 'y': 1,\n",
       " 'D': 1,\n",
       " 'g': 1}"
      ]
     },
     "execution_count": 37,
     "metadata": {},
     "output_type": "execute_result"
    }
   ],
   "source": [
    "result"
   ]
  },
  {
   "cell_type": "code",
   "execution_count": 38,
   "id": "4ab4182b",
   "metadata": {},
   "outputs": [],
   "source": [
    "result={i: s.count(i) for i in s if i!=\" \"} # ignore space"
   ]
  },
  {
   "cell_type": "code",
   "execution_count": 40,
   "id": "415d70e3",
   "metadata": {},
   "outputs": [
    {
     "data": {
      "text/plain": [
       "{'T': 1,\n",
       " 'h': 2,\n",
       " 'e': 4,\n",
       " 'Q': 1,\n",
       " 'u': 2,\n",
       " 'i': 1,\n",
       " 'c': 1,\n",
       " 'k': 1,\n",
       " 'B': 1,\n",
       " 'r': 2,\n",
       " 'o': 3,\n",
       " 'w': 1,\n",
       " 'n': 1,\n",
       " 'F': 1,\n",
       " 'x': 1,\n",
       " 'J': 1,\n",
       " 'm': 1,\n",
       " 'p': 1,\n",
       " 'd': 1,\n",
       " 'O': 1,\n",
       " 'v': 1,\n",
       " 't': 1,\n",
       " 'L': 1,\n",
       " 'a': 1,\n",
       " 'z': 1,\n",
       " 'y': 1,\n",
       " 'D': 1,\n",
       " 'g': 1}"
      ]
     },
     "execution_count": 40,
     "metadata": {},
     "output_type": "execute_result"
    }
   ],
   "source": [
    "result"
   ]
  },
  {
   "cell_type": "code",
   "execution_count": 3,
   "id": "19800ee8",
   "metadata": {},
   "outputs": [
    {
     "name": "stdout",
     "output_type": "stream",
     "text": [
      "True\n",
      "False\n"
     ]
    }
   ],
   "source": [
    "nums=range(1,11)\n",
    "even=lambda x:x%2==0\n",
    "\n",
    "print(even(2))\n",
    "print(even(3))\n",
    "#will return only boolean values"
   ]
  },
  {
   "cell_type": "code",
   "execution_count": 5,
   "id": "34b3f87f",
   "metadata": {},
   "outputs": [
    {
     "name": "stdout",
     "output_type": "stream",
     "text": [
      "[False, True, False, True, False, True, False, True, False, True]\n"
     ]
    }
   ],
   "source": [
    "print(list(map(even,nums)))"
   ]
  },
  {
   "cell_type": "code",
   "execution_count": null,
   "id": "1b52fa96",
   "metadata": {},
   "outputs": [],
   "source": []
  }
 ],
 "metadata": {
  "kernelspec": {
   "display_name": "Python 3 (ipykernel)",
   "language": "python",
   "name": "python3"
  },
  "language_info": {
   "codemirror_mode": {
    "name": "ipython",
    "version": 3
   },
   "file_extension": ".py",
   "mimetype": "text/x-python",
   "name": "python",
   "nbconvert_exporter": "python",
   "pygments_lexer": "ipython3",
   "version": "3.9.7"
  }
 },
 "nbformat": 4,
 "nbformat_minor": 5
}
