{
 "cells": [
  {
   "cell_type": "markdown",
   "id": "56c99b2c",
   "metadata": {},
   "source": [
    "## Functions(UDF - User Defined Functions"
   ]
  },
  {
   "cell_type": "code",
   "execution_count": 1,
   "id": "f3157745",
   "metadata": {},
   "outputs": [],
   "source": [
    "def SimpleFunctions():   #Define function\n",
    "    print(\"Inside Function\")\n",
    "    print(\"Outside Function\")"
   ]
  },
  {
   "cell_type": "code",
   "execution_count": 2,
   "id": "b20299f9",
   "metadata": {},
   "outputs": [
    {
     "name": "stdout",
     "output_type": "stream",
     "text": [
      "Inside Function\n",
      "Outside Function\n"
     ]
    }
   ],
   "source": [
    "SimpleFunctions()"
   ]
  },
  {
   "cell_type": "code",
   "execution_count": 3,
   "id": "ca7f0397",
   "metadata": {},
   "outputs": [],
   "source": [
    "def FindMaximum(x,y):    #Define function to find maximum\n",
    "    if x>y:\n",
    "        return(x)\n",
    "    else:\n",
    "        return(y)"
   ]
  },
  {
   "cell_type": "code",
   "execution_count": 4,
   "id": "0b87812a",
   "metadata": {},
   "outputs": [
    {
     "data": {
      "text/plain": [
       "25"
      ]
     },
     "execution_count": 4,
     "metadata": {},
     "output_type": "execute_result"
    }
   ],
   "source": [
    "FindMaximum(5,25)"
   ]
  },
  {
   "cell_type": "code",
   "execution_count": 5,
   "id": "a197ea5f",
   "metadata": {},
   "outputs": [],
   "source": [
    "def Factorial(x):\n",
    "    if x<=1:\n",
    "        return(x)\n",
    "    else:\n",
    "        return(x*Factorial(x-1))"
   ]
  },
  {
   "cell_type": "code",
   "execution_count": 6,
   "id": "11123181",
   "metadata": {},
   "outputs": [
    {
     "data": {
      "text/plain": [
       "120"
      ]
     },
     "execution_count": 6,
     "metadata": {},
     "output_type": "execute_result"
    }
   ],
   "source": [
    "Factorial(5)"
   ]
  },
  {
   "cell_type": "code",
   "execution_count": 7,
   "id": "6e10f513",
   "metadata": {},
   "outputs": [],
   "source": [
    "def IterFunction(num):\n",
    "    result=1\n",
    "    for item in range(1,num+1):\n",
    "        result*=item\n",
    "    return(result)"
   ]
  },
  {
   "cell_type": "code",
   "execution_count": 8,
   "id": "3e5d7d4c",
   "metadata": {},
   "outputs": [
    {
     "data": {
      "text/plain": [
       "120"
      ]
     },
     "execution_count": 8,
     "metadata": {},
     "output_type": "execute_result"
    }
   ],
   "source": [
    "IterFunction(5)"
   ]
  },
  {
   "cell_type": "code",
   "execution_count": 9,
   "id": "f77c84ff",
   "metadata": {},
   "outputs": [
    {
     "name": "stdout",
     "output_type": "stream",
     "text": [
      "1\n",
      "2\n",
      "3\n",
      "4\n",
      "5\n"
     ]
    }
   ],
   "source": [
    "for item in range(1,5+1):\n",
    "    print(item)"
   ]
  },
  {
   "cell_type": "code",
   "execution_count": 10,
   "id": "4178ccdd",
   "metadata": {},
   "outputs": [
    {
     "name": "stdout",
     "output_type": "stream",
     "text": [
      "Enter the number5\n",
      "Factorial of 5 number is  120\n"
     ]
    }
   ],
   "source": [
    "num=int(input(\"Enter the number\"))\n",
    "print(\"Factorial of {} number is \".format(num),IterFunction(num))"
   ]
  },
  {
   "cell_type": "code",
   "execution_count": 11,
   "id": "aad73fce",
   "metadata": {},
   "outputs": [],
   "source": [
    "def FunctionWithDefaultArgument(x=1):\n",
    "    return x"
   ]
  },
  {
   "cell_type": "code",
   "execution_count": 12,
   "id": "99196bab",
   "metadata": {},
   "outputs": [
    {
     "data": {
      "text/plain": [
       "1"
      ]
     },
     "execution_count": 12,
     "metadata": {},
     "output_type": "execute_result"
    }
   ],
   "source": [
    "FunctionWithDefaultArgument()"
   ]
  },
  {
   "cell_type": "code",
   "execution_count": 13,
   "id": "5e77242e",
   "metadata": {},
   "outputs": [
    {
     "data": {
      "text/plain": [
       "250"
      ]
     },
     "execution_count": 13,
     "metadata": {},
     "output_type": "execute_result"
    }
   ],
   "source": [
    "FunctionWithDefaultArgument(250)"
   ]
  },
  {
   "cell_type": "markdown",
   "id": "1932836e",
   "metadata": {},
   "source": [
    "## Lambda Functions"
   ]
  },
  {
   "cell_type": "code",
   "execution_count": 14,
   "id": "dbfd1fc5",
   "metadata": {},
   "outputs": [],
   "source": [
    "def MySquare(x):\n",
    "    return x*x"
   ]
  },
  {
   "cell_type": "code",
   "execution_count": 15,
   "id": "e36a3556",
   "metadata": {},
   "outputs": [
    {
     "data": {
      "text/plain": [
       "25"
      ]
     },
     "execution_count": 15,
     "metadata": {},
     "output_type": "execute_result"
    }
   ],
   "source": [
    "MySquare(5)"
   ]
  },
  {
   "cell_type": "code",
   "execution_count": 16,
   "id": "c246b13c",
   "metadata": {},
   "outputs": [],
   "source": [
    "sqrs = lambda x:x*x"
   ]
  },
  {
   "cell_type": "code",
   "execution_count": 17,
   "id": "2ee8d05d",
   "metadata": {},
   "outputs": [
    {
     "data": {
      "text/plain": [
       "25"
      ]
     },
     "execution_count": 17,
     "metadata": {},
     "output_type": "execute_result"
    }
   ],
   "source": [
    "sqrs(5)"
   ]
  },
  {
   "cell_type": "code",
   "execution_count": 18,
   "id": "eaa96b3d",
   "metadata": {},
   "outputs": [],
   "source": [
    "myadd = lambda x,y:x+y"
   ]
  },
  {
   "cell_type": "code",
   "execution_count": 19,
   "id": "9eaca33b",
   "metadata": {},
   "outputs": [
    {
     "data": {
      "text/plain": [
       "9"
      ]
     },
     "execution_count": 19,
     "metadata": {},
     "output_type": "execute_result"
    }
   ],
   "source": [
    "myadd(5,4)"
   ]
  },
  {
   "cell_type": "code",
   "execution_count": 20,
   "id": "2ab4f951",
   "metadata": {},
   "outputs": [
    {
     "name": "stdout",
     "output_type": "stream",
     "text": [
      "7\n"
     ]
    }
   ],
   "source": [
    "print((lambda x,y:x+y)(2,5))"
   ]
  },
  {
   "cell_type": "markdown",
   "id": "b645d18b",
   "metadata": {},
   "source": [
    "If n is odd, print Weird\n",
    "If n is even and in the inclusive range of 2 to 5 , print Not Weird\n",
    "If n is even and in the inclusive range of 6 to 20, print Weird\n",
    "If n is even and greater than 20, print Not Weird\n",
    "\n",
    "Constraint is 1<=n<=100"
   ]
  },
  {
   "cell_type": "code",
   "execution_count": 21,
   "id": "346625db",
   "metadata": {},
   "outputs": [],
   "source": [
    "n=3"
   ]
  },
  {
   "cell_type": "code",
   "execution_count": 22,
   "id": "12b22799",
   "metadata": {},
   "outputs": [
    {
     "name": "stdout",
     "output_type": "stream",
     "text": [
      "Not Weird\n"
     ]
    }
   ],
   "source": [
    "if n%2==0:\n",
    "    print(\"Weird\")\n",
    "elif (n>=2 and n<=5):\n",
    "    print(\"Not Weird\")\n",
    "elif (n>=6 and n<=20):\n",
    "    print(\"Weird\")\n",
    "elif n> 20:\n",
    "    print(\"Not Weird\")"
   ]
  },
  {
   "cell_type": "code",
   "execution_count": 23,
   "id": "7662a3fb",
   "metadata": {},
   "outputs": [
    {
     "name": "stdout",
     "output_type": "stream",
     "text": [
      "Not Weird\n"
     ]
    }
   ],
   "source": [
    "n=101\n",
    "if (n%2==0):\n",
    "    print(\"Weird\")\n",
    "elif (2<=n<=5):\n",
    "    print(\"Not Weird\")\n",
    "elif (6<=n<=20):\n",
    "    print(\"Weird\")\n",
    "elif (n>20):\n",
    "    print(\"Not Weird\")\n"
   ]
  },
  {
   "cell_type": "markdown",
   "id": "9c09e812",
   "metadata": {},
   "source": [
    "## args, kwargs"
   ]
  },
  {
   "cell_type": "code",
   "execution_count": 36,
   "id": "71dda6c7",
   "metadata": {},
   "outputs": [],
   "source": [
    "def sum_of_num_args(*args):\n",
    "    # use doc string helps other developers to understand the function better\n",
    "    \"\"\"This function takes in multiple arguments and return the same\"\"\"\n",
    "    print(\"args\",args)\n",
    "    print(\"Type of args:\",type(args))\n",
    "    result=0\n",
    "    for i in args:\n",
    "  #      print(\"Iterator \",i)\n",
    "        result+=i\n",
    "    print(\"result: \",result)\n",
    "    print(\"Type of args \",type(args))"
   ]
  },
  {
   "cell_type": "code",
   "execution_count": 37,
   "id": "7542187f",
   "metadata": {},
   "outputs": [
    {
     "name": "stdout",
     "output_type": "stream",
     "text": [
      "args (5, 3)\n",
      "Type of args: <class 'tuple'>\n",
      "result:  8\n",
      "Type of args  <class 'tuple'>\n"
     ]
    }
   ],
   "source": [
    "sum_of_num_args(5,3)"
   ]
  },
  {
   "cell_type": "code",
   "execution_count": 26,
   "id": "80827918",
   "metadata": {},
   "outputs": [
    {
     "name": "stdout",
     "output_type": "stream",
     "text": [
      "args (3, 5, 7, 9)\n",
      "Type of args: <class 'tuple'>\n",
      "result:  24\n"
     ]
    }
   ],
   "source": [
    "sum_of_num_args(3,5,7,9)"
   ]
  },
  {
   "cell_type": "code",
   "execution_count": 27,
   "id": "11b9a372",
   "metadata": {},
   "outputs": [],
   "source": [
    "t=(1,2,3,4,5)"
   ]
  },
  {
   "cell_type": "code",
   "execution_count": 28,
   "id": "db5cbbce",
   "metadata": {},
   "outputs": [
    {
     "name": "stdout",
     "output_type": "stream",
     "text": [
      "args ((1, 2, 3, 4, 5),)\n",
      "Type of args: <class 'tuple'>\n"
     ]
    },
    {
     "ename": "TypeError",
     "evalue": "unsupported operand type(s) for +=: 'int' and 'tuple'",
     "output_type": "error",
     "traceback": [
      "\u001b[1;31m---------------------------------------------------------------------------\u001b[0m",
      "\u001b[1;31mTypeError\u001b[0m                                 Traceback (most recent call last)",
      "\u001b[1;32m~\\AppData\\Local\\Temp/ipykernel_12316/1222758370.py\u001b[0m in \u001b[0;36m<module>\u001b[1;34m\u001b[0m\n\u001b[1;32m----> 1\u001b[1;33m \u001b[0msum_of_num_args\u001b[0m\u001b[1;33m(\u001b[0m\u001b[0mt\u001b[0m\u001b[1;33m)\u001b[0m\u001b[1;33m\u001b[0m\u001b[1;33m\u001b[0m\u001b[0m\n\u001b[0m",
      "\u001b[1;32m~\\AppData\\Local\\Temp/ipykernel_12316/3112042511.py\u001b[0m in \u001b[0;36msum_of_num_args\u001b[1;34m(*args)\u001b[0m\n\u001b[0;32m      7\u001b[0m     \u001b[1;32mfor\u001b[0m \u001b[0mi\u001b[0m \u001b[1;32min\u001b[0m \u001b[0margs\u001b[0m\u001b[1;33m:\u001b[0m\u001b[1;33m\u001b[0m\u001b[1;33m\u001b[0m\u001b[0m\n\u001b[0;32m      8\u001b[0m   \u001b[1;31m#      print(\"Iterator \",i)\u001b[0m\u001b[1;33m\u001b[0m\u001b[1;33m\u001b[0m\u001b[0m\n\u001b[1;32m----> 9\u001b[1;33m         \u001b[0mresult\u001b[0m\u001b[1;33m+=\u001b[0m\u001b[0mi\u001b[0m\u001b[1;33m\u001b[0m\u001b[1;33m\u001b[0m\u001b[0m\n\u001b[0m\u001b[0;32m     10\u001b[0m     \u001b[0mprint\u001b[0m\u001b[1;33m(\u001b[0m\u001b[1;34m\"result: \"\u001b[0m\u001b[1;33m,\u001b[0m\u001b[0mresult\u001b[0m\u001b[1;33m)\u001b[0m\u001b[1;33m\u001b[0m\u001b[1;33m\u001b[0m\u001b[0m\n",
      "\u001b[1;31mTypeError\u001b[0m: unsupported operand type(s) for +=: 'int' and 'tuple'"
     ]
    }
   ],
   "source": [
    "sum_of_num_args(t)"
   ]
  },
  {
   "cell_type": "code",
   "execution_count": 29,
   "id": "e0ce497d",
   "metadata": {},
   "outputs": [
    {
     "name": "stdout",
     "output_type": "stream",
     "text": [
      "args (1, 2, 3)\n",
      "Type of args: <class 'tuple'>\n",
      "result:  6\n"
     ]
    }
   ],
   "source": [
    "sum_of_num_args(t[0],t[1],t[2])"
   ]
  },
  {
   "cell_type": "markdown",
   "id": "6d8d2237",
   "metadata": {},
   "source": [
    "## kwargs understanding"
   ]
  },
  {
   "cell_type": "code",
   "execution_count": 38,
   "id": "af2e7c92",
   "metadata": {},
   "outputs": [],
   "source": [
    "def printPlayerdetails(**kwargs):\n",
    "    print(\"Player Details\",kwargs)\n",
    "    print(\"Type of kwargs\",type(kwargs))\n",
    "    for k,v in kwargs.items():\n",
    "        print(\"k -> {}, v -> {}\".format(k,v))"
   ]
  },
  {
   "cell_type": "code",
   "execution_count": 39,
   "id": "919d2fa0",
   "metadata": {},
   "outputs": [
    {
     "name": "stdout",
     "output_type": "stream",
     "text": [
      "Player Details {'name': 'Virat', 'age': '33', 'team': 'RCB'}\n",
      "Type of kwargs <class 'dict'>\n",
      "k -> name, v -> Virat\n",
      "k -> age, v -> 33\n",
      "k -> team, v -> RCB\n"
     ]
    }
   ],
   "source": [
    "printPlayerdetails(name=\"Virat\",age=\"33\",team=\"RCB\")"
   ]
  },
  {
   "cell_type": "code",
   "execution_count": 40,
   "id": "d5157e0d",
   "metadata": {},
   "outputs": [
    {
     "name": "stdout",
     "output_type": "stream",
     "text": [
      "Player Details {'name': 'Virat', 'age': '33', 'team': 'RCB', 'status': 'Active'}\n",
      "Type of kwargs <class 'dict'>\n",
      "k -> name, v -> Virat\n",
      "k -> age, v -> 33\n",
      "k -> team, v -> RCB\n",
      "k -> status, v -> Active\n"
     ]
    }
   ],
   "source": [
    "# output is in dictionary format,\n",
    "#in case of args it was in tuple format\n",
    "printPlayerdetails(name=\"Virat\",age=\"33\",team=\"RCB\",status=\"Active\")"
   ]
  },
  {
   "cell_type": "code",
   "execution_count": null,
   "id": "51b9ce8c",
   "metadata": {},
   "outputs": [],
   "source": []
  }
 ],
 "metadata": {
  "kernelspec": {
   "display_name": "Python 3 (ipykernel)",
   "language": "python",
   "name": "python3"
  },
  "language_info": {
   "codemirror_mode": {
    "name": "ipython",
    "version": 3
   },
   "file_extension": ".py",
   "mimetype": "text/x-python",
   "name": "python",
   "nbconvert_exporter": "python",
   "pygments_lexer": "ipython3",
   "version": "3.9.7"
  }
 },
 "nbformat": 4,
 "nbformat_minor": 5
}
