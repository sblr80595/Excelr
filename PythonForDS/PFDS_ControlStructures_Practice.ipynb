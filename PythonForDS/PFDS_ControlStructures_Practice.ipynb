{
 "cells": [
  {
   "cell_type": "code",
   "execution_count": 3,
   "id": "0fc49d24",
   "metadata": {},
   "outputs": [
    {
     "name": "stdout",
     "output_type": "stream",
     "text": [
      "hello\n",
      "hello <class 'str'>\n"
     ]
    }
   ],
   "source": [
    "score=input()\n",
    "print(score,type(score))"
   ]
  },
  {
   "cell_type": "code",
   "execution_count": 4,
   "id": "c6781c53",
   "metadata": {},
   "outputs": [
    {
     "name": "stdout",
     "output_type": "stream",
     "text": [
      "5\n",
      "5 <class 'str'>\n"
     ]
    }
   ],
   "source": [
    "score=input()\n",
    "print(score,type(score))"
   ]
  },
  {
   "cell_type": "code",
   "execution_count": 5,
   "id": "573990db",
   "metadata": {},
   "outputs": [
    {
     "name": "stdout",
     "output_type": "stream",
     "text": [
      "6\n",
      "6 <class 'int'>\n"
     ]
    }
   ],
   "source": [
    "score=int(input())\n",
    "print(score,type(score))"
   ]
  },
  {
   "cell_type": "code",
   "execution_count": 6,
   "id": "a80212fd",
   "metadata": {},
   "outputs": [
    {
     "name": "stdout",
     "output_type": "stream",
     "text": [
      "6\n",
      "6 <class 'int'>\n"
     ]
    }
   ],
   "source": [
    "score=input()\n",
    "score=int(score)\n",
    "print(score,type(score))"
   ]
  },
  {
   "cell_type": "code",
   "execution_count": 8,
   "id": "54eeeeca",
   "metadata": {},
   "outputs": [
    {
     "name": "stdout",
     "output_type": "stream",
     "text": [
      "Positive Value\n"
     ]
    }
   ],
   "source": [
    "if score>0:\n",
    "    print(\"Positive Value\")\n",
    "else:\n",
    "    print(\"Negative Value\")"
   ]
  },
  {
   "cell_type": "code",
   "execution_count": 9,
   "id": "d14c11df",
   "metadata": {},
   "outputs": [
    {
     "name": "stdout",
     "output_type": "stream",
     "text": [
      "Positive Value\n"
     ]
    }
   ],
   "source": [
    "if score>0:\n",
    "    print(\"Positive Value\")\n",
    "elif score==0:\n",
    "    print(\"Number is Zero\")\n",
    "else:\n",
    "    print(\"Negative Value\")"
   ]
  },
  {
   "cell_type": "code",
   "execution_count": 11,
   "id": "182f8dfe",
   "metadata": {},
   "outputs": [
    {
     "name": "stdout",
     "output_type": "stream",
     "text": [
      "1\n",
      "2\n",
      "3\n",
      "4\n",
      "5\n"
     ]
    }
   ],
   "source": [
    "x=1\n",
    "while x<=5:\n",
    "    print(x)\n",
    "    x=x+1"
   ]
  },
  {
   "cell_type": "code",
   "execution_count": 12,
   "id": "e9ca5564",
   "metadata": {},
   "outputs": [
    {
     "name": "stdout",
     "output_type": "stream",
     "text": [
      "10\n",
      "15\n",
      "20\n",
      "25\n",
      "30\n",
      "35\n",
      "40\n",
      "45\n",
      "50\n"
     ]
    }
   ],
   "source": [
    "r=range(10,51,5)\n",
    "for i in r:\n",
    "    print(i)"
   ]
  },
  {
   "cell_type": "code",
   "execution_count": 13,
   "id": "2957679c",
   "metadata": {},
   "outputs": [
    {
     "name": "stdout",
     "output_type": "stream",
     "text": [
      "1\n",
      "9\n",
      "25\n",
      "49\n"
     ]
    }
   ],
   "source": [
    "list1=[1,3,5,7]\n",
    "for item in list1:\n",
    "    x=item**2\n",
    "    print(x)"
   ]
  },
  {
   "cell_type": "code",
   "execution_count": 15,
   "id": "f39e86ca",
   "metadata": {},
   "outputs": [
    {
     "name": "stdout",
     "output_type": "stream",
     "text": [
      "www.amazon.com\n",
      "www.flipkart.com\n",
      "www.snapdeal.com\n"
     ]
    }
   ],
   "source": [
    "websites=[\"amazon\",\"flipkart\",\"snapdeal\"]\n",
    "for sites in websites:\n",
    "    print(\"www.\"+sites+\".com\")"
   ]
  },
  {
   "cell_type": "code",
   "execution_count": 20,
   "id": "f1c99608",
   "metadata": {},
   "outputs": [
    {
     "name": "stdout",
     "output_type": "stream",
     "text": [
      "['www.amazon.com', 'www.flipkart.com', 'www.snapdeal.com']\n"
     ]
    }
   ],
   "source": [
    "new_webs=[]\n",
    "for sites in websites:\n",
    "    #print(\"www.\"+sites+\".com\")\n",
    "    new_webs.append(\"www.\"+sites+\".com\")\n",
    "print(new_webs)"
   ]
  },
  {
   "cell_type": "code",
   "execution_count": 21,
   "id": "b154fa9f",
   "metadata": {},
   "outputs": [],
   "source": [
    "new_webs.append(\"www.myntra.com\")"
   ]
  },
  {
   "cell_type": "code",
   "execution_count": 22,
   "id": "9580f05e",
   "metadata": {},
   "outputs": [
    {
     "name": "stdout",
     "output_type": "stream",
     "text": [
      "['www.amazon.com', 'www.flipkart.com', 'www.snapdeal.com', 'www.myntra.com']\n"
     ]
    }
   ],
   "source": [
    "print(new_webs)"
   ]
  },
  {
   "cell_type": "code",
   "execution_count": 25,
   "id": "47376a52",
   "metadata": {},
   "outputs": [],
   "source": [
    "vk={\"name\":\"Virat\",\"Age\":33,\"Team\":\"RCB\"}"
   ]
  },
  {
   "cell_type": "code",
   "execution_count": 29,
   "id": "50fb95df",
   "metadata": {},
   "outputs": [
    {
     "data": {
      "text/plain": [
       "{'name': 'Virat', 'Age': 33, 'Team': 'RCB'}"
      ]
     },
     "execution_count": 29,
     "metadata": {},
     "output_type": "execute_result"
    }
   ],
   "source": [
    "vk"
   ]
  },
  {
   "cell_type": "code",
   "execution_count": 27,
   "id": "838a6b66",
   "metadata": {},
   "outputs": [
    {
     "data": {
      "text/plain": [
       "dict_keys(['name', 'Age', 'Team'])"
      ]
     },
     "execution_count": 27,
     "metadata": {},
     "output_type": "execute_result"
    }
   ],
   "source": [
    "vk.keys()"
   ]
  },
  {
   "cell_type": "code",
   "execution_count": 28,
   "id": "1e979b82",
   "metadata": {},
   "outputs": [
    {
     "data": {
      "text/plain": [
       "dict_values(['Virat', 33, 'RCB'])"
      ]
     },
     "execution_count": 28,
     "metadata": {},
     "output_type": "execute_result"
    }
   ],
   "source": [
    "vk.values()"
   ]
  },
  {
   "cell_type": "code",
   "execution_count": 31,
   "id": "76c45a87",
   "metadata": {},
   "outputs": [
    {
     "name": "stdout",
     "output_type": "stream",
     "text": [
      "name\n",
      "Age\n",
      "Team\n"
     ]
    }
   ],
   "source": [
    "for i in vk:\n",
    "    print(i)"
   ]
  },
  {
   "cell_type": "code",
   "execution_count": 33,
   "id": "012c6ed7",
   "metadata": {},
   "outputs": [
    {
     "name": "stdout",
     "output_type": "stream",
     "text": [
      "Virat\n",
      "33\n",
      "RCB\n"
     ]
    }
   ],
   "source": [
    "for i in vk.values():\n",
    "    print(i)"
   ]
  },
  {
   "cell_type": "code",
   "execution_count": 36,
   "id": "a0aa619d",
   "metadata": {},
   "outputs": [
    {
     "name": "stdout",
     "output_type": "stream",
     "text": [
      "('name', 'Virat')\n",
      "('Age', 33)\n",
      "('Team', 'RCB')\n"
     ]
    }
   ],
   "source": [
    "for i in vk.items():\n",
    "    print(i)"
   ]
  },
  {
   "cell_type": "code",
   "execution_count": 37,
   "id": "d64105d4",
   "metadata": {},
   "outputs": [
    {
     "name": "stdout",
     "output_type": "stream",
     "text": [
      "1\n",
      "2\n",
      "3\n",
      "4\n",
      "5\n"
     ]
    }
   ],
   "source": [
    "for i in range(1,11):\n",
    "    print(i)\n",
    "    if i==5:\n",
    "        break"
   ]
  },
  {
   "cell_type": "code",
   "execution_count": 38,
   "id": "6db37f30",
   "metadata": {},
   "outputs": [
    {
     "name": "stdout",
     "output_type": "stream",
     "text": [
      "2\n",
      "4\n",
      "6\n",
      "8\n",
      "10\n"
     ]
    }
   ],
   "source": [
    "for i in range(1,11):\n",
    "    if i%2 != 0:\n",
    "        continue\n",
    "    print(i)\n"
   ]
  },
  {
   "cell_type": "code",
   "execution_count": 40,
   "id": "81cce565",
   "metadata": {},
   "outputs": [],
   "source": [
    "for i in range(1,11):\n",
    "        pass"
   ]
  },
  {
   "cell_type": "code",
   "execution_count": 46,
   "id": "76fe3598",
   "metadata": {},
   "outputs": [
    {
     "name": "stdout",
     "output_type": "stream",
     "text": [
      "12345\n",
      "54321\n"
     ]
    }
   ],
   "source": [
    "#print the input taken in reverse order\n",
    "test=input() [::-1]\n",
    "print(test)\n"
   ]
  },
  {
   "cell_type": "code",
   "execution_count": 47,
   "id": "31a5f404",
   "metadata": {},
   "outputs": [
    {
     "name": "stdout",
     "output_type": "stream",
     "text": [
      "12345\n",
      "54321\n"
     ]
    }
   ],
   "source": [
    "test=input() \n",
    "print(test [::-1])"
   ]
  },
  {
   "cell_type": "code",
   "execution_count": 54,
   "id": "6427c16e",
   "metadata": {},
   "outputs": [
    {
     "name": "stdout",
     "output_type": "stream",
     "text": [
      "Sum = 10\n"
     ]
    }
   ],
   "source": [
    "#write a program to get sum of all elements in list\n",
    "numbers=[1,2,3,4]\n",
    "sum=0\n",
    "for i in numbers:\n",
    "    sum+=i\n",
    "print(\"Sum =\",sum)\n"
   ]
  },
  {
   "cell_type": "code",
   "execution_count": null,
   "id": "08a2dbc2",
   "metadata": {},
   "outputs": [],
   "source": []
  }
 ],
 "metadata": {
  "kernelspec": {
   "display_name": "Python 3 (ipykernel)",
   "language": "python",
   "name": "python3"
  },
  "language_info": {
   "codemirror_mode": {
    "name": "ipython",
    "version": 3
   },
   "file_extension": ".py",
   "mimetype": "text/x-python",
   "name": "python",
   "nbconvert_exporter": "python",
   "pygments_lexer": "ipython3",
   "version": "3.9.7"
  }
 },
 "nbformat": 4,
 "nbformat_minor": 5
}
